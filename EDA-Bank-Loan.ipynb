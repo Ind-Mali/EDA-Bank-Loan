{
 "cells": [
  {
   "cell_type": "markdown",
   "metadata": {},
   "source": [
    "# VERİ MADENCİLİĞİ DERSİ 2020-2021 BAHAR DÖNEMİ PROJESİ"
   ]
  },
  {
   "cell_type": "markdown",
   "metadata": {},
   "source": [
    "# 1) VERİ SETİNİN TANITILMASI\n",
    "Üzerinde çalışma yapılan veri seti, Kaggle aracılığıyla bir veri deposu görevi gören UCI(https://archive.ics.uci.edu/ml/datasets/Bank+Marketing) üzerinden elde edilmiştir. \n",
    "## Veri setindeki özniteliklerimizi tanıyalım:\n",
    "### Banka müşteri verileri:\n",
    "1. age(yaş)\n",
    "2. job(iş): İş türü\n",
    "3. marital(medeni hali): Müşterinin medeni durumu \n",
    "4. education(eğitim)\n",
    "5. default(temerrüt): Temerrüde düşen kredi var mı?\n",
    "6. balance(bakiye): Ortalama yıllık bakiye(Euro)\n",
    "7. housing(konut): Konut kredisi var mı?\n",
    "8. loan(kredi): Kişisel kredisi var mı?\n",
    "### Mevcut kampanyanın son kişisiyle ilgili:\n",
    "9. contact(iletişim): İletişim yöntemi\n",
    "10. day(gün): Ayın son iletişime geçilen günü\n",
    "11. month(ay): Yılın en son iletişime geçilen ayı\n",
    "12. duration(süre): Son görüşme süresi(saniye)\n",
    "13. campaign(kampanya): Bu kampanya sırasında, bu müşteri için gerçekleştirilen iletişim sayısı\n",
    "14. pdays(günler): Önceki bir kampanyadan müşteriyle iletişim kurulduktan sonra geçen gün sayısı \n",
    "15. previous(önceki): Bu kampanyadan önce bu müşteriyle iletişime geçme sayısı\n",
    "16. poutcome(sonuç): Önceki pazarlama kampanyasının sonucu\n",
    "### Çıktı değişkeni (İstenen hedef):\n",
    "17. y : Müşteri vadeli mevduata abone oldu mu?"
   ]
  },
  {
   "cell_type": "markdown",
   "metadata": {},
   "source": [
    "# 2) VERİ ÖN İŞLEME\n",
    "## 2.1)Verilerin Bağımlı ve Bağımsız Değişkenler Olarak Ayrılması\n",
    "Verilerimizi bağımlı ve bağımsız değişkenler olarak nitelendirmemizin sebebi belirlediğimiz bağımsız değişkenler üzerinden yola çıkarak bağımlı değişkenin tahmin edilebilmesini sağlamaktır.\n",
    "\n",
    "### Bağımsız Değişkenler\n",
    "- age\n",
    "- job\n",
    "- marital\n",
    "- education\n",
    "- default\n",
    "- balance\n",
    "- housing\n",
    "- loan\n",
    "- contact\n",
    "- day\n",
    "- month\n",
    "- duration\n",
    "- campaign\n",
    "- pdays\n",
    "- previous\n",
    "- poutcome\n",
    "### Bağımlı Değişkenler\n",
    "- y\n",
    "\n",
    "## 2.2) Dengesiz Veri Kümesinin İşlenmesi\n",
    "\n",
    "Verilerin bağımlı ve bağımsız olarak belirlenmesinden sonrasında ise verilerimiz dengesiz olduğu için \"Undersampling for Imbalanced Classification\" metodunu kullanarak verimizde ilk başta %88 olan tahmin oranını %50'ye düşürdük ve elimizde 10578 adet veri kalmasını sağlamış olduk. *Özniteliklerimize ise bu aşamada dokunmadık.*"
   ]
  },
  {
   "cell_type": "code",
   "execution_count": 136,
   "metadata": {},
   "outputs": [],
   "source": [
    "import numpy as np\n",
    "import pandas as pd\n",
    "import matplotlib.pyplot as plt\n",
    "import seaborn as sns\n",
    "\n",
    "from seaborn import heatmap\n",
    "from sklearn import preprocessing\n",
    "from collections import Counter\n",
    "\n",
    "from sklearn.metrics import plot_confusion_matrix\n",
    "from sklearn.linear_model import LogisticRegression\n",
    "from sklearn.model_selection import train_test_split\n",
    "from sklearn.preprocessing import StandardScaler\n",
    "from sklearn.neural_network import MLPClassifier\n",
    "from sklearn.tree import DecisionTreeClassifier, plot_tree"
   ]
  },
  {
   "cell_type": "code",
   "execution_count": 2,
   "metadata": {},
   "outputs": [
    {
     "data": {
      "text/html": [
       "<div>\n",
       "<style scoped>\n",
       "    .dataframe tbody tr th:only-of-type {\n",
       "        vertical-align: middle;\n",
       "    }\n",
       "\n",
       "    .dataframe tbody tr th {\n",
       "        vertical-align: top;\n",
       "    }\n",
       "\n",
       "    .dataframe thead th {\n",
       "        text-align: right;\n",
       "    }\n",
       "</style>\n",
       "<table border=\"1\" class=\"dataframe\">\n",
       "  <thead>\n",
       "    <tr style=\"text-align: right;\">\n",
       "      <th></th>\n",
       "      <th>age</th>\n",
       "      <th>job</th>\n",
       "      <th>marital</th>\n",
       "      <th>education</th>\n",
       "      <th>default</th>\n",
       "      <th>balance</th>\n",
       "      <th>housing</th>\n",
       "      <th>loan</th>\n",
       "      <th>contact</th>\n",
       "      <th>day</th>\n",
       "      <th>month</th>\n",
       "      <th>duration</th>\n",
       "      <th>campaign</th>\n",
       "      <th>pdays</th>\n",
       "      <th>previous</th>\n",
       "      <th>poutcome</th>\n",
       "      <th>y</th>\n",
       "    </tr>\n",
       "  </thead>\n",
       "  <tbody>\n",
       "    <tr>\n",
       "      <th>0</th>\n",
       "      <td>58</td>\n",
       "      <td>management</td>\n",
       "      <td>married</td>\n",
       "      <td>tertiary</td>\n",
       "      <td>no</td>\n",
       "      <td>2143</td>\n",
       "      <td>yes</td>\n",
       "      <td>no</td>\n",
       "      <td>unknown</td>\n",
       "      <td>5</td>\n",
       "      <td>may</td>\n",
       "      <td>261</td>\n",
       "      <td>1</td>\n",
       "      <td>-1</td>\n",
       "      <td>0</td>\n",
       "      <td>unknown</td>\n",
       "      <td>no</td>\n",
       "    </tr>\n",
       "    <tr>\n",
       "      <th>1</th>\n",
       "      <td>44</td>\n",
       "      <td>technician</td>\n",
       "      <td>single</td>\n",
       "      <td>secondary</td>\n",
       "      <td>no</td>\n",
       "      <td>29</td>\n",
       "      <td>yes</td>\n",
       "      <td>no</td>\n",
       "      <td>unknown</td>\n",
       "      <td>5</td>\n",
       "      <td>may</td>\n",
       "      <td>151</td>\n",
       "      <td>1</td>\n",
       "      <td>-1</td>\n",
       "      <td>0</td>\n",
       "      <td>unknown</td>\n",
       "      <td>no</td>\n",
       "    </tr>\n",
       "    <tr>\n",
       "      <th>2</th>\n",
       "      <td>33</td>\n",
       "      <td>entrepreneur</td>\n",
       "      <td>married</td>\n",
       "      <td>secondary</td>\n",
       "      <td>no</td>\n",
       "      <td>2</td>\n",
       "      <td>yes</td>\n",
       "      <td>yes</td>\n",
       "      <td>unknown</td>\n",
       "      <td>5</td>\n",
       "      <td>may</td>\n",
       "      <td>76</td>\n",
       "      <td>1</td>\n",
       "      <td>-1</td>\n",
       "      <td>0</td>\n",
       "      <td>unknown</td>\n",
       "      <td>no</td>\n",
       "    </tr>\n",
       "    <tr>\n",
       "      <th>3</th>\n",
       "      <td>47</td>\n",
       "      <td>blue-collar</td>\n",
       "      <td>married</td>\n",
       "      <td>unknown</td>\n",
       "      <td>no</td>\n",
       "      <td>1506</td>\n",
       "      <td>yes</td>\n",
       "      <td>no</td>\n",
       "      <td>unknown</td>\n",
       "      <td>5</td>\n",
       "      <td>may</td>\n",
       "      <td>92</td>\n",
       "      <td>1</td>\n",
       "      <td>-1</td>\n",
       "      <td>0</td>\n",
       "      <td>unknown</td>\n",
       "      <td>no</td>\n",
       "    </tr>\n",
       "    <tr>\n",
       "      <th>4</th>\n",
       "      <td>33</td>\n",
       "      <td>unknown</td>\n",
       "      <td>single</td>\n",
       "      <td>unknown</td>\n",
       "      <td>no</td>\n",
       "      <td>1</td>\n",
       "      <td>no</td>\n",
       "      <td>no</td>\n",
       "      <td>unknown</td>\n",
       "      <td>5</td>\n",
       "      <td>may</td>\n",
       "      <td>198</td>\n",
       "      <td>1</td>\n",
       "      <td>-1</td>\n",
       "      <td>0</td>\n",
       "      <td>unknown</td>\n",
       "      <td>no</td>\n",
       "    </tr>\n",
       "  </tbody>\n",
       "</table>\n",
       "</div>"
      ],
      "text/plain": [
       "   age           job  marital  education default  balance housing loan  \\\n",
       "0   58    management  married   tertiary      no     2143     yes   no   \n",
       "1   44    technician   single  secondary      no       29     yes   no   \n",
       "2   33  entrepreneur  married  secondary      no        2     yes  yes   \n",
       "3   47   blue-collar  married    unknown      no     1506     yes   no   \n",
       "4   33       unknown   single    unknown      no        1      no   no   \n",
       "\n",
       "   contact  day month  duration  campaign  pdays  previous poutcome   y  \n",
       "0  unknown    5   may       261         1     -1         0  unknown  no  \n",
       "1  unknown    5   may       151         1     -1         0  unknown  no  \n",
       "2  unknown    5   may        76         1     -1         0  unknown  no  \n",
       "3  unknown    5   may        92         1     -1         0  unknown  no  \n",
       "4  unknown    5   may       198         1     -1         0  unknown  no  "
      ]
     },
     "execution_count": 2,
     "metadata": {},
     "output_type": "execute_result"
    }
   ],
   "source": [
    "df = pd.read_csv(\"bank-full.csv\", sep=\";\")\n",
    "df.head()"
   ]
  },
  {
   "cell_type": "code",
   "execution_count": 3,
   "metadata": {},
   "outputs": [
    {
     "name": "stdout",
     "output_type": "stream",
     "text": [
      "<class 'pandas.core.frame.DataFrame'>\n",
      "RangeIndex: 45211 entries, 0 to 45210\n",
      "Data columns (total 17 columns):\n",
      " #   Column     Non-Null Count  Dtype \n",
      "---  ------     --------------  ----- \n",
      " 0   age        45211 non-null  int64 \n",
      " 1   job        45211 non-null  object\n",
      " 2   marital    45211 non-null  object\n",
      " 3   education  45211 non-null  object\n",
      " 4   default    45211 non-null  object\n",
      " 5   balance    45211 non-null  int64 \n",
      " 6   housing    45211 non-null  object\n",
      " 7   loan       45211 non-null  object\n",
      " 8   contact    45211 non-null  object\n",
      " 9   day        45211 non-null  int64 \n",
      " 10  month      45211 non-null  object\n",
      " 11  duration   45211 non-null  int64 \n",
      " 12  campaign   45211 non-null  int64 \n",
      " 13  pdays      45211 non-null  int64 \n",
      " 14  previous   45211 non-null  int64 \n",
      " 15  poutcome   45211 non-null  object\n",
      " 16  y          45211 non-null  object\n",
      "dtypes: int64(7), object(10)\n",
      "memory usage: 5.9+ MB\n"
     ]
    }
   ],
   "source": [
    "df.info()"
   ]
  },
  {
   "cell_type": "code",
   "execution_count": 4,
   "metadata": {},
   "outputs": [
    {
     "data": {
      "text/plain": [
       "age          0\n",
       "job          0\n",
       "marital      0\n",
       "education    0\n",
       "default      0\n",
       "balance      0\n",
       "housing      0\n",
       "loan         0\n",
       "contact      0\n",
       "day          0\n",
       "month        0\n",
       "duration     0\n",
       "campaign     0\n",
       "pdays        0\n",
       "previous     0\n",
       "poutcome     0\n",
       "y            0\n",
       "dtype: int64"
      ]
     },
     "execution_count": 4,
     "metadata": {},
     "output_type": "execute_result"
    }
   ],
   "source": [
    "df.isnull().sum()"
   ]
  },
  {
   "cell_type": "code",
   "execution_count": 5,
   "metadata": {},
   "outputs": [
    {
     "data": {
      "text/html": [
       "<div>\n",
       "<style scoped>\n",
       "    .dataframe tbody tr th:only-of-type {\n",
       "        vertical-align: middle;\n",
       "    }\n",
       "\n",
       "    .dataframe tbody tr th {\n",
       "        vertical-align: top;\n",
       "    }\n",
       "\n",
       "    .dataframe thead th {\n",
       "        text-align: right;\n",
       "    }\n",
       "</style>\n",
       "<table border=\"1\" class=\"dataframe\">\n",
       "  <thead>\n",
       "    <tr style=\"text-align: right;\">\n",
       "      <th></th>\n",
       "      <th>age</th>\n",
       "      <th>balance</th>\n",
       "      <th>day</th>\n",
       "      <th>duration</th>\n",
       "      <th>campaign</th>\n",
       "      <th>pdays</th>\n",
       "      <th>previous</th>\n",
       "    </tr>\n",
       "  </thead>\n",
       "  <tbody>\n",
       "    <tr>\n",
       "      <th>count</th>\n",
       "      <td>45211.000000</td>\n",
       "      <td>45211.000000</td>\n",
       "      <td>45211.000000</td>\n",
       "      <td>45211.000000</td>\n",
       "      <td>45211.000000</td>\n",
       "      <td>45211.000000</td>\n",
       "      <td>45211.000000</td>\n",
       "    </tr>\n",
       "    <tr>\n",
       "      <th>mean</th>\n",
       "      <td>40.936210</td>\n",
       "      <td>1362.272058</td>\n",
       "      <td>15.806419</td>\n",
       "      <td>258.163080</td>\n",
       "      <td>2.763841</td>\n",
       "      <td>40.197828</td>\n",
       "      <td>0.580323</td>\n",
       "    </tr>\n",
       "    <tr>\n",
       "      <th>std</th>\n",
       "      <td>10.618762</td>\n",
       "      <td>3044.765829</td>\n",
       "      <td>8.322476</td>\n",
       "      <td>257.527812</td>\n",
       "      <td>3.098021</td>\n",
       "      <td>100.128746</td>\n",
       "      <td>2.303441</td>\n",
       "    </tr>\n",
       "    <tr>\n",
       "      <th>min</th>\n",
       "      <td>18.000000</td>\n",
       "      <td>-8019.000000</td>\n",
       "      <td>1.000000</td>\n",
       "      <td>0.000000</td>\n",
       "      <td>1.000000</td>\n",
       "      <td>-1.000000</td>\n",
       "      <td>0.000000</td>\n",
       "    </tr>\n",
       "    <tr>\n",
       "      <th>25%</th>\n",
       "      <td>33.000000</td>\n",
       "      <td>72.000000</td>\n",
       "      <td>8.000000</td>\n",
       "      <td>103.000000</td>\n",
       "      <td>1.000000</td>\n",
       "      <td>-1.000000</td>\n",
       "      <td>0.000000</td>\n",
       "    </tr>\n",
       "    <tr>\n",
       "      <th>50%</th>\n",
       "      <td>39.000000</td>\n",
       "      <td>448.000000</td>\n",
       "      <td>16.000000</td>\n",
       "      <td>180.000000</td>\n",
       "      <td>2.000000</td>\n",
       "      <td>-1.000000</td>\n",
       "      <td>0.000000</td>\n",
       "    </tr>\n",
       "    <tr>\n",
       "      <th>75%</th>\n",
       "      <td>48.000000</td>\n",
       "      <td>1428.000000</td>\n",
       "      <td>21.000000</td>\n",
       "      <td>319.000000</td>\n",
       "      <td>3.000000</td>\n",
       "      <td>-1.000000</td>\n",
       "      <td>0.000000</td>\n",
       "    </tr>\n",
       "    <tr>\n",
       "      <th>max</th>\n",
       "      <td>95.000000</td>\n",
       "      <td>102127.000000</td>\n",
       "      <td>31.000000</td>\n",
       "      <td>4918.000000</td>\n",
       "      <td>63.000000</td>\n",
       "      <td>871.000000</td>\n",
       "      <td>275.000000</td>\n",
       "    </tr>\n",
       "  </tbody>\n",
       "</table>\n",
       "</div>"
      ],
      "text/plain": [
       "                age        balance           day      duration      campaign  \\\n",
       "count  45211.000000   45211.000000  45211.000000  45211.000000  45211.000000   \n",
       "mean      40.936210    1362.272058     15.806419    258.163080      2.763841   \n",
       "std       10.618762    3044.765829      8.322476    257.527812      3.098021   \n",
       "min       18.000000   -8019.000000      1.000000      0.000000      1.000000   \n",
       "25%       33.000000      72.000000      8.000000    103.000000      1.000000   \n",
       "50%       39.000000     448.000000     16.000000    180.000000      2.000000   \n",
       "75%       48.000000    1428.000000     21.000000    319.000000      3.000000   \n",
       "max       95.000000  102127.000000     31.000000   4918.000000     63.000000   \n",
       "\n",
       "              pdays      previous  \n",
       "count  45211.000000  45211.000000  \n",
       "mean      40.197828      0.580323  \n",
       "std      100.128746      2.303441  \n",
       "min       -1.000000      0.000000  \n",
       "25%       -1.000000      0.000000  \n",
       "50%       -1.000000      0.000000  \n",
       "75%       -1.000000      0.000000  \n",
       "max      871.000000    275.000000  "
      ]
     },
     "execution_count": 5,
     "metadata": {},
     "output_type": "execute_result"
    }
   ],
   "source": [
    "df.describe()"
   ]
  },
  {
   "cell_type": "code",
   "execution_count": 6,
   "metadata": {},
   "outputs": [
    {
     "data": {
      "text/html": [
       "<div>\n",
       "<style scoped>\n",
       "    .dataframe tbody tr th:only-of-type {\n",
       "        vertical-align: middle;\n",
       "    }\n",
       "\n",
       "    .dataframe tbody tr th {\n",
       "        vertical-align: top;\n",
       "    }\n",
       "\n",
       "    .dataframe thead th {\n",
       "        text-align: right;\n",
       "    }\n",
       "</style>\n",
       "<table border=\"1\" class=\"dataframe\">\n",
       "  <thead>\n",
       "    <tr style=\"text-align: right;\">\n",
       "      <th></th>\n",
       "      <th>age</th>\n",
       "      <th>job</th>\n",
       "      <th>marital</th>\n",
       "      <th>education</th>\n",
       "      <th>default</th>\n",
       "      <th>balance</th>\n",
       "      <th>housing</th>\n",
       "      <th>loan</th>\n",
       "      <th>contact</th>\n",
       "      <th>day</th>\n",
       "      <th>month</th>\n",
       "      <th>duration</th>\n",
       "      <th>campaign</th>\n",
       "      <th>pdays</th>\n",
       "      <th>previous</th>\n",
       "      <th>poutcome</th>\n",
       "      <th>y</th>\n",
       "    </tr>\n",
       "  </thead>\n",
       "  <tbody>\n",
       "    <tr>\n",
       "      <th>0</th>\n",
       "      <td>58</td>\n",
       "      <td>management</td>\n",
       "      <td>married</td>\n",
       "      <td>tertiary</td>\n",
       "      <td>no</td>\n",
       "      <td>2143</td>\n",
       "      <td>yes</td>\n",
       "      <td>no</td>\n",
       "      <td>unknown</td>\n",
       "      <td>5</td>\n",
       "      <td>may</td>\n",
       "      <td>261</td>\n",
       "      <td>1</td>\n",
       "      <td>-1</td>\n",
       "      <td>0</td>\n",
       "      <td>unknown</td>\n",
       "      <td>Abone Olmadı</td>\n",
       "    </tr>\n",
       "    <tr>\n",
       "      <th>1</th>\n",
       "      <td>44</td>\n",
       "      <td>technician</td>\n",
       "      <td>single</td>\n",
       "      <td>secondary</td>\n",
       "      <td>no</td>\n",
       "      <td>29</td>\n",
       "      <td>yes</td>\n",
       "      <td>no</td>\n",
       "      <td>unknown</td>\n",
       "      <td>5</td>\n",
       "      <td>may</td>\n",
       "      <td>151</td>\n",
       "      <td>1</td>\n",
       "      <td>-1</td>\n",
       "      <td>0</td>\n",
       "      <td>unknown</td>\n",
       "      <td>Abone Olmadı</td>\n",
       "    </tr>\n",
       "    <tr>\n",
       "      <th>2</th>\n",
       "      <td>33</td>\n",
       "      <td>entrepreneur</td>\n",
       "      <td>married</td>\n",
       "      <td>secondary</td>\n",
       "      <td>no</td>\n",
       "      <td>2</td>\n",
       "      <td>yes</td>\n",
       "      <td>yes</td>\n",
       "      <td>unknown</td>\n",
       "      <td>5</td>\n",
       "      <td>may</td>\n",
       "      <td>76</td>\n",
       "      <td>1</td>\n",
       "      <td>-1</td>\n",
       "      <td>0</td>\n",
       "      <td>unknown</td>\n",
       "      <td>Abone Olmadı</td>\n",
       "    </tr>\n",
       "    <tr>\n",
       "      <th>3</th>\n",
       "      <td>47</td>\n",
       "      <td>blue-collar</td>\n",
       "      <td>married</td>\n",
       "      <td>unknown</td>\n",
       "      <td>no</td>\n",
       "      <td>1506</td>\n",
       "      <td>yes</td>\n",
       "      <td>no</td>\n",
       "      <td>unknown</td>\n",
       "      <td>5</td>\n",
       "      <td>may</td>\n",
       "      <td>92</td>\n",
       "      <td>1</td>\n",
       "      <td>-1</td>\n",
       "      <td>0</td>\n",
       "      <td>unknown</td>\n",
       "      <td>Abone Olmadı</td>\n",
       "    </tr>\n",
       "    <tr>\n",
       "      <th>4</th>\n",
       "      <td>33</td>\n",
       "      <td>unknown</td>\n",
       "      <td>single</td>\n",
       "      <td>unknown</td>\n",
       "      <td>no</td>\n",
       "      <td>1</td>\n",
       "      <td>no</td>\n",
       "      <td>no</td>\n",
       "      <td>unknown</td>\n",
       "      <td>5</td>\n",
       "      <td>may</td>\n",
       "      <td>198</td>\n",
       "      <td>1</td>\n",
       "      <td>-1</td>\n",
       "      <td>0</td>\n",
       "      <td>unknown</td>\n",
       "      <td>Abone Olmadı</td>\n",
       "    </tr>\n",
       "    <tr>\n",
       "      <th>...</th>\n",
       "      <td>...</td>\n",
       "      <td>...</td>\n",
       "      <td>...</td>\n",
       "      <td>...</td>\n",
       "      <td>...</td>\n",
       "      <td>...</td>\n",
       "      <td>...</td>\n",
       "      <td>...</td>\n",
       "      <td>...</td>\n",
       "      <td>...</td>\n",
       "      <td>...</td>\n",
       "      <td>...</td>\n",
       "      <td>...</td>\n",
       "      <td>...</td>\n",
       "      <td>...</td>\n",
       "      <td>...</td>\n",
       "      <td>...</td>\n",
       "    </tr>\n",
       "    <tr>\n",
       "      <th>45206</th>\n",
       "      <td>51</td>\n",
       "      <td>technician</td>\n",
       "      <td>married</td>\n",
       "      <td>tertiary</td>\n",
       "      <td>no</td>\n",
       "      <td>825</td>\n",
       "      <td>no</td>\n",
       "      <td>no</td>\n",
       "      <td>cellular</td>\n",
       "      <td>17</td>\n",
       "      <td>nov</td>\n",
       "      <td>977</td>\n",
       "      <td>3</td>\n",
       "      <td>-1</td>\n",
       "      <td>0</td>\n",
       "      <td>unknown</td>\n",
       "      <td>Abone Oldu</td>\n",
       "    </tr>\n",
       "    <tr>\n",
       "      <th>45207</th>\n",
       "      <td>71</td>\n",
       "      <td>retired</td>\n",
       "      <td>divorced</td>\n",
       "      <td>primary</td>\n",
       "      <td>no</td>\n",
       "      <td>1729</td>\n",
       "      <td>no</td>\n",
       "      <td>no</td>\n",
       "      <td>cellular</td>\n",
       "      <td>17</td>\n",
       "      <td>nov</td>\n",
       "      <td>456</td>\n",
       "      <td>2</td>\n",
       "      <td>-1</td>\n",
       "      <td>0</td>\n",
       "      <td>unknown</td>\n",
       "      <td>Abone Oldu</td>\n",
       "    </tr>\n",
       "    <tr>\n",
       "      <th>45208</th>\n",
       "      <td>72</td>\n",
       "      <td>retired</td>\n",
       "      <td>married</td>\n",
       "      <td>secondary</td>\n",
       "      <td>no</td>\n",
       "      <td>5715</td>\n",
       "      <td>no</td>\n",
       "      <td>no</td>\n",
       "      <td>cellular</td>\n",
       "      <td>17</td>\n",
       "      <td>nov</td>\n",
       "      <td>1127</td>\n",
       "      <td>5</td>\n",
       "      <td>184</td>\n",
       "      <td>3</td>\n",
       "      <td>success</td>\n",
       "      <td>Abone Oldu</td>\n",
       "    </tr>\n",
       "    <tr>\n",
       "      <th>45209</th>\n",
       "      <td>57</td>\n",
       "      <td>blue-collar</td>\n",
       "      <td>married</td>\n",
       "      <td>secondary</td>\n",
       "      <td>no</td>\n",
       "      <td>668</td>\n",
       "      <td>no</td>\n",
       "      <td>no</td>\n",
       "      <td>telephone</td>\n",
       "      <td>17</td>\n",
       "      <td>nov</td>\n",
       "      <td>508</td>\n",
       "      <td>4</td>\n",
       "      <td>-1</td>\n",
       "      <td>0</td>\n",
       "      <td>unknown</td>\n",
       "      <td>Abone Olmadı</td>\n",
       "    </tr>\n",
       "    <tr>\n",
       "      <th>45210</th>\n",
       "      <td>37</td>\n",
       "      <td>entrepreneur</td>\n",
       "      <td>married</td>\n",
       "      <td>secondary</td>\n",
       "      <td>no</td>\n",
       "      <td>2971</td>\n",
       "      <td>no</td>\n",
       "      <td>no</td>\n",
       "      <td>cellular</td>\n",
       "      <td>17</td>\n",
       "      <td>nov</td>\n",
       "      <td>361</td>\n",
       "      <td>2</td>\n",
       "      <td>188</td>\n",
       "      <td>11</td>\n",
       "      <td>other</td>\n",
       "      <td>Abone Olmadı</td>\n",
       "    </tr>\n",
       "  </tbody>\n",
       "</table>\n",
       "<p>45211 rows × 17 columns</p>\n",
       "</div>"
      ],
      "text/plain": [
       "       age           job   marital  education default  balance housing loan  \\\n",
       "0       58    management   married   tertiary      no     2143     yes   no   \n",
       "1       44    technician    single  secondary      no       29     yes   no   \n",
       "2       33  entrepreneur   married  secondary      no        2     yes  yes   \n",
       "3       47   blue-collar   married    unknown      no     1506     yes   no   \n",
       "4       33       unknown    single    unknown      no        1      no   no   \n",
       "...    ...           ...       ...        ...     ...      ...     ...  ...   \n",
       "45206   51    technician   married   tertiary      no      825      no   no   \n",
       "45207   71       retired  divorced    primary      no     1729      no   no   \n",
       "45208   72       retired   married  secondary      no     5715      no   no   \n",
       "45209   57   blue-collar   married  secondary      no      668      no   no   \n",
       "45210   37  entrepreneur   married  secondary      no     2971      no   no   \n",
       "\n",
       "         contact  day month  duration  campaign  pdays  previous poutcome  \\\n",
       "0        unknown    5   may       261         1     -1         0  unknown   \n",
       "1        unknown    5   may       151         1     -1         0  unknown   \n",
       "2        unknown    5   may        76         1     -1         0  unknown   \n",
       "3        unknown    5   may        92         1     -1         0  unknown   \n",
       "4        unknown    5   may       198         1     -1         0  unknown   \n",
       "...          ...  ...   ...       ...       ...    ...       ...      ...   \n",
       "45206   cellular   17   nov       977         3     -1         0  unknown   \n",
       "45207   cellular   17   nov       456         2     -1         0  unknown   \n",
       "45208   cellular   17   nov      1127         5    184         3  success   \n",
       "45209  telephone   17   nov       508         4     -1         0  unknown   \n",
       "45210   cellular   17   nov       361         2    188        11    other   \n",
       "\n",
       "                  y  \n",
       "0      Abone Olmadı  \n",
       "1      Abone Olmadı  \n",
       "2      Abone Olmadı  \n",
       "3      Abone Olmadı  \n",
       "4      Abone Olmadı  \n",
       "...             ...  \n",
       "45206    Abone Oldu  \n",
       "45207    Abone Oldu  \n",
       "45208    Abone Oldu  \n",
       "45209  Abone Olmadı  \n",
       "45210  Abone Olmadı  \n",
       "\n",
       "[45211 rows x 17 columns]"
      ]
     },
     "execution_count": 6,
     "metadata": {},
     "output_type": "execute_result"
    }
   ],
   "source": [
    " # Abone olup olmadıklarını rahat okuyabilmek bazı için değişimler yaptık\n",
    "df[\"y\"]=df[\"y\"].replace(\"no\",\"Abone Olmadı\")\n",
    "df[\"y\"]=df[\"y\"].replace(\"yes\",\"Abone Oldu\")\n",
    "df"
   ]
  },
  {
   "cell_type": "code",
   "execution_count": 7,
   "metadata": {},
   "outputs": [
    {
     "data": {
      "text/plain": [
       "Abone Olmadı    39922\n",
       "Abone Oldu       5289\n",
       "Name: y, dtype: int64"
      ]
     },
     "execution_count": 7,
     "metadata": {},
     "output_type": "execute_result"
    },
    {
     "data": {
      "image/png": "[encoded data removed]",
      "text/plain": [
       "<Figure size 432x288 with 1 Axes>"
      ]
     },
     "metadata": {
      "needs_background": "light"
     },
     "output_type": "display_data"
    }
   ],
   "source": [
    "sns.countplot(x=\"y\", data=df)\n",
    "df.loc[:,\"y\"].value_counts()    "
   ]
  },
  {
   "cell_type": "markdown",
   "metadata": {},
   "source": [
    "Şu an elimizde olan bilgiler ışığında kapıdan girecek yeni bir müşterinin abone olup olmayacağını %88(abone olmayacak) oranla doğru tahmin edebiliriz."
   ]
  },
  {
   "cell_type": "markdown",
   "metadata": {},
   "source": [
    "## Verideki dengesizliği gidermek için bazı işlemler yaptık\n",
    "Giriş bölümünde bahsetmiş olduğumuz erilerdeki dengesizliğin giderilmesi işlemine buradan itibaren başlıyoruz. Bu işlemi yaparken kullandığımız metod ise Dengesiz Sınıflandırma için Alt Örnekleme metodudur. Kısaca bu metodu açıklayacak olursak; bu teknik çoğunluk sınıfına ait örneklerin rastgele seçilerek çıkarılmasıyla veri setini dengeleme tekniğidir diyebiliriz.  \n",
    "## Undersampling for Imbalanced Classification (Dengesiz Sınıflandırma için Alt Örnekleme) "
   ]
  },
  {
   "cell_type": "code",
   "execution_count": 8,
   "metadata": {},
   "outputs": [],
   "source": [
    "loan_app = df[df[\"y\"]==\"Abone Oldu\"]\n",
    "loan_ntapp = df[df[\"y\"]==\"Abone Olmadı\"]"
   ]
  },
  {
   "cell_type": "code",
   "execution_count": 9,
   "metadata": {},
   "outputs": [
    {
     "name": "stdout",
     "output_type": "stream",
     "text": [
      "(5289, 17) (39922, 17) (45211, 17)\n"
     ]
    }
   ],
   "source": [
    " # Abone olan ve olmayan verilerin ayrılmış hali.\n",
    "print(loan_app.shape,loan_ntapp.shape,df.shape) "
   ]
  },
  {
   "cell_type": "code",
   "execution_count": 10,
   "metadata": {},
   "outputs": [],
   "source": [
    "X=df\n",
    "Y=df[\"y\"] "
   ]
  },
  {
   "cell_type": "code",
   "execution_count": 11,
   "metadata": {},
   "outputs": [],
   "source": [
    "X.drop(\"y\",axis=1, inplace=True)"
   ]
  },
  {
   "cell_type": "code",
   "execution_count": 12,
   "metadata": {},
   "outputs": [],
   "source": [
    "from imblearn import under_sampling"
   ]
  },
  {
   "cell_type": "code",
   "execution_count": 13,
   "metadata": {},
   "outputs": [
    {
     "name": "stdout",
     "output_type": "stream",
     "text": [
      "[('Abone Oldu', 5289), ('Abone Olmadı', 5289)] (10578,)\n"
     ]
    }
   ],
   "source": [
    "from imblearn.under_sampling import RandomUnderSampler\n",
    "\n",
    "rus = RandomUnderSampler(random_state=0)\n",
    "X_resampled, y_resampled = rus.fit_resample(X,Y)\n",
    "print(sorted(Counter(y_resampled).items()),y_resampled.shape)\n",
    "\n",
    "# Verimizdeki dengesizliği giderme işlemini, tahmin olasılığımızı %88'den %50'ye düşürerek burada tamamlamış olduk.\n"
   ]
  },
  {
   "cell_type": "code",
   "execution_count": 14,
   "metadata": {},
   "outputs": [
    {
     "data": {
      "text/html": [
       "<div>\n",
       "<style scoped>\n",
       "    .dataframe tbody tr th:only-of-type {\n",
       "        vertical-align: middle;\n",
       "    }\n",
       "\n",
       "    .dataframe tbody tr th {\n",
       "        vertical-align: top;\n",
       "    }\n",
       "\n",
       "    .dataframe thead th {\n",
       "        text-align: right;\n",
       "    }\n",
       "</style>\n",
       "<table border=\"1\" class=\"dataframe\">\n",
       "  <thead>\n",
       "    <tr style=\"text-align: right;\">\n",
       "      <th></th>\n",
       "      <th>age</th>\n",
       "      <th>job</th>\n",
       "      <th>marital</th>\n",
       "      <th>education</th>\n",
       "      <th>default</th>\n",
       "      <th>balance</th>\n",
       "      <th>housing</th>\n",
       "      <th>loan</th>\n",
       "      <th>contact</th>\n",
       "      <th>day</th>\n",
       "      <th>month</th>\n",
       "      <th>duration</th>\n",
       "      <th>campaign</th>\n",
       "      <th>pdays</th>\n",
       "      <th>previous</th>\n",
       "      <th>poutcome</th>\n",
       "      <th>y</th>\n",
       "    </tr>\n",
       "  </thead>\n",
       "  <tbody>\n",
       "    <tr>\n",
       "      <th>0</th>\n",
       "      <td>59</td>\n",
       "      <td>admin.</td>\n",
       "      <td>married</td>\n",
       "      <td>secondary</td>\n",
       "      <td>no</td>\n",
       "      <td>2343</td>\n",
       "      <td>yes</td>\n",
       "      <td>no</td>\n",
       "      <td>unknown</td>\n",
       "      <td>5</td>\n",
       "      <td>may</td>\n",
       "      <td>1042</td>\n",
       "      <td>1</td>\n",
       "      <td>-1</td>\n",
       "      <td>0</td>\n",
       "      <td>unknown</td>\n",
       "      <td>Abone Oldu</td>\n",
       "    </tr>\n",
       "    <tr>\n",
       "      <th>1</th>\n",
       "      <td>56</td>\n",
       "      <td>admin.</td>\n",
       "      <td>married</td>\n",
       "      <td>secondary</td>\n",
       "      <td>no</td>\n",
       "      <td>45</td>\n",
       "      <td>no</td>\n",
       "      <td>no</td>\n",
       "      <td>unknown</td>\n",
       "      <td>5</td>\n",
       "      <td>may</td>\n",
       "      <td>1467</td>\n",
       "      <td>1</td>\n",
       "      <td>-1</td>\n",
       "      <td>0</td>\n",
       "      <td>unknown</td>\n",
       "      <td>Abone Oldu</td>\n",
       "    </tr>\n",
       "    <tr>\n",
       "      <th>2</th>\n",
       "      <td>41</td>\n",
       "      <td>technician</td>\n",
       "      <td>married</td>\n",
       "      <td>secondary</td>\n",
       "      <td>no</td>\n",
       "      <td>1270</td>\n",
       "      <td>yes</td>\n",
       "      <td>no</td>\n",
       "      <td>unknown</td>\n",
       "      <td>5</td>\n",
       "      <td>may</td>\n",
       "      <td>1389</td>\n",
       "      <td>1</td>\n",
       "      <td>-1</td>\n",
       "      <td>0</td>\n",
       "      <td>unknown</td>\n",
       "      <td>Abone Oldu</td>\n",
       "    </tr>\n",
       "    <tr>\n",
       "      <th>3</th>\n",
       "      <td>55</td>\n",
       "      <td>services</td>\n",
       "      <td>married</td>\n",
       "      <td>secondary</td>\n",
       "      <td>no</td>\n",
       "      <td>2476</td>\n",
       "      <td>yes</td>\n",
       "      <td>no</td>\n",
       "      <td>unknown</td>\n",
       "      <td>5</td>\n",
       "      <td>may</td>\n",
       "      <td>579</td>\n",
       "      <td>1</td>\n",
       "      <td>-1</td>\n",
       "      <td>0</td>\n",
       "      <td>unknown</td>\n",
       "      <td>Abone Oldu</td>\n",
       "    </tr>\n",
       "    <tr>\n",
       "      <th>4</th>\n",
       "      <td>54</td>\n",
       "      <td>admin.</td>\n",
       "      <td>married</td>\n",
       "      <td>tertiary</td>\n",
       "      <td>no</td>\n",
       "      <td>184</td>\n",
       "      <td>no</td>\n",
       "      <td>no</td>\n",
       "      <td>unknown</td>\n",
       "      <td>5</td>\n",
       "      <td>may</td>\n",
       "      <td>673</td>\n",
       "      <td>2</td>\n",
       "      <td>-1</td>\n",
       "      <td>0</td>\n",
       "      <td>unknown</td>\n",
       "      <td>Abone Oldu</td>\n",
       "    </tr>\n",
       "    <tr>\n",
       "      <th>...</th>\n",
       "      <td>...</td>\n",
       "      <td>...</td>\n",
       "      <td>...</td>\n",
       "      <td>...</td>\n",
       "      <td>...</td>\n",
       "      <td>...</td>\n",
       "      <td>...</td>\n",
       "      <td>...</td>\n",
       "      <td>...</td>\n",
       "      <td>...</td>\n",
       "      <td>...</td>\n",
       "      <td>...</td>\n",
       "      <td>...</td>\n",
       "      <td>...</td>\n",
       "      <td>...</td>\n",
       "      <td>...</td>\n",
       "      <td>...</td>\n",
       "    </tr>\n",
       "    <tr>\n",
       "      <th>10573</th>\n",
       "      <td>47</td>\n",
       "      <td>technician</td>\n",
       "      <td>married</td>\n",
       "      <td>secondary</td>\n",
       "      <td>no</td>\n",
       "      <td>-401</td>\n",
       "      <td>yes</td>\n",
       "      <td>no</td>\n",
       "      <td>unknown</td>\n",
       "      <td>23</td>\n",
       "      <td>may</td>\n",
       "      <td>78</td>\n",
       "      <td>1</td>\n",
       "      <td>-1</td>\n",
       "      <td>0</td>\n",
       "      <td>unknown</td>\n",
       "      <td>Abone Olmadı</td>\n",
       "    </tr>\n",
       "    <tr>\n",
       "      <th>10574</th>\n",
       "      <td>52</td>\n",
       "      <td>technician</td>\n",
       "      <td>divorced</td>\n",
       "      <td>secondary</td>\n",
       "      <td>no</td>\n",
       "      <td>0</td>\n",
       "      <td>no</td>\n",
       "      <td>no</td>\n",
       "      <td>telephone</td>\n",
       "      <td>17</td>\n",
       "      <td>nov</td>\n",
       "      <td>215</td>\n",
       "      <td>3</td>\n",
       "      <td>-1</td>\n",
       "      <td>0</td>\n",
       "      <td>unknown</td>\n",
       "      <td>Abone Olmadı</td>\n",
       "    </tr>\n",
       "    <tr>\n",
       "      <th>10575</th>\n",
       "      <td>39</td>\n",
       "      <td>blue-collar</td>\n",
       "      <td>married</td>\n",
       "      <td>primary</td>\n",
       "      <td>no</td>\n",
       "      <td>1433</td>\n",
       "      <td>yes</td>\n",
       "      <td>no</td>\n",
       "      <td>cellular</td>\n",
       "      <td>8</td>\n",
       "      <td>may</td>\n",
       "      <td>182</td>\n",
       "      <td>2</td>\n",
       "      <td>366</td>\n",
       "      <td>1</td>\n",
       "      <td>other</td>\n",
       "      <td>Abone Olmadı</td>\n",
       "    </tr>\n",
       "    <tr>\n",
       "      <th>10576</th>\n",
       "      <td>57</td>\n",
       "      <td>management</td>\n",
       "      <td>married</td>\n",
       "      <td>secondary</td>\n",
       "      <td>no</td>\n",
       "      <td>-868</td>\n",
       "      <td>yes</td>\n",
       "      <td>yes</td>\n",
       "      <td>cellular</td>\n",
       "      <td>23</td>\n",
       "      <td>jul</td>\n",
       "      <td>186</td>\n",
       "      <td>1</td>\n",
       "      <td>-1</td>\n",
       "      <td>0</td>\n",
       "      <td>unknown</td>\n",
       "      <td>Abone Olmadı</td>\n",
       "    </tr>\n",
       "    <tr>\n",
       "      <th>10577</th>\n",
       "      <td>33</td>\n",
       "      <td>admin.</td>\n",
       "      <td>single</td>\n",
       "      <td>secondary</td>\n",
       "      <td>no</td>\n",
       "      <td>2557</td>\n",
       "      <td>yes</td>\n",
       "      <td>no</td>\n",
       "      <td>cellular</td>\n",
       "      <td>18</td>\n",
       "      <td>may</td>\n",
       "      <td>186</td>\n",
       "      <td>1</td>\n",
       "      <td>-1</td>\n",
       "      <td>0</td>\n",
       "      <td>unknown</td>\n",
       "      <td>Abone Olmadı</td>\n",
       "    </tr>\n",
       "  </tbody>\n",
       "</table>\n",
       "<p>10578 rows × 17 columns</p>\n",
       "</div>"
      ],
      "text/plain": [
       "       age          job   marital  education default  balance housing loan  \\\n",
       "0       59       admin.   married  secondary      no     2343     yes   no   \n",
       "1       56       admin.   married  secondary      no       45      no   no   \n",
       "2       41   technician   married  secondary      no     1270     yes   no   \n",
       "3       55     services   married  secondary      no     2476     yes   no   \n",
       "4       54       admin.   married   tertiary      no      184      no   no   \n",
       "...    ...          ...       ...        ...     ...      ...     ...  ...   \n",
       "10573   47   technician   married  secondary      no     -401     yes   no   \n",
       "10574   52   technician  divorced  secondary      no        0      no   no   \n",
       "10575   39  blue-collar   married    primary      no     1433     yes   no   \n",
       "10576   57   management   married  secondary      no     -868     yes  yes   \n",
       "10577   33       admin.    single  secondary      no     2557     yes   no   \n",
       "\n",
       "         contact  day month  duration  campaign  pdays  previous poutcome  \\\n",
       "0        unknown    5   may      1042         1     -1         0  unknown   \n",
       "1        unknown    5   may      1467         1     -1         0  unknown   \n",
       "2        unknown    5   may      1389         1     -1         0  unknown   \n",
       "3        unknown    5   may       579         1     -1         0  unknown   \n",
       "4        unknown    5   may       673         2     -1         0  unknown   \n",
       "...          ...  ...   ...       ...       ...    ...       ...      ...   \n",
       "10573    unknown   23   may        78         1     -1         0  unknown   \n",
       "10574  telephone   17   nov       215         3     -1         0  unknown   \n",
       "10575   cellular    8   may       182         2    366         1    other   \n",
       "10576   cellular   23   jul       186         1     -1         0  unknown   \n",
       "10577   cellular   18   may       186         1     -1         0  unknown   \n",
       "\n",
       "                  y  \n",
       "0        Abone Oldu  \n",
       "1        Abone Oldu  \n",
       "2        Abone Oldu  \n",
       "3        Abone Oldu  \n",
       "4        Abone Oldu  \n",
       "...             ...  \n",
       "10573  Abone Olmadı  \n",
       "10574  Abone Olmadı  \n",
       "10575  Abone Olmadı  \n",
       "10576  Abone Olmadı  \n",
       "10577  Abone Olmadı  \n",
       "\n",
       "[10578 rows x 17 columns]"
      ]
     },
     "execution_count": 14,
     "metadata": {},
     "output_type": "execute_result"
    }
   ],
   "source": [
    "X_resampled[\"y\"]= y_resampled\n",
    "X_resampled"
   ]
  },
  {
   "cell_type": "code",
   "execution_count": 15,
   "metadata": {},
   "outputs": [
    {
     "data": {
      "text/plain": [
       "<AxesSubplot:xlabel='y', ylabel='count'>"
      ]
     },
     "execution_count": 15,
     "metadata": {},
     "output_type": "execute_result"
    },
    {
     "data": {
      "image/png": "[encoded data removed]",
      "text/plain": [
       "<Figure size 432x288 with 1 Axes>"
      ]
     },
     "metadata": {
      "needs_background": "light"
     },
     "output_type": "display_data"
    }
   ],
   "source": [
    "# Tahmin olasılığımızın %50 oranına düştüğünü grafik ile gösterdik.\n",
    "sns.countplot(x=\"y\", data=X_resampled)  "
   ]
  },
  {
   "cell_type": "markdown",
   "metadata": {},
   "source": [
    "# Yeni verimizdeki bilgilerin gösterilmesi"
   ]
  },
  {
   "cell_type": "code",
   "execution_count": 16,
   "metadata": {},
   "outputs": [
    {
     "name": "stdout",
     "output_type": "stream",
     "text": [
      "<class 'pandas.core.frame.DataFrame'>\n",
      "RangeIndex: 10578 entries, 0 to 10577\n",
      "Data columns (total 17 columns):\n",
      " #   Column     Non-Null Count  Dtype \n",
      "---  ------     --------------  ----- \n",
      " 0   age        10578 non-null  int64 \n",
      " 1   job        10578 non-null  object\n",
      " 2   marital    10578 non-null  object\n",
      " 3   education  10578 non-null  object\n",
      " 4   default    10578 non-null  object\n",
      " 5   balance    10578 non-null  int64 \n",
      " 6   housing    10578 non-null  object\n",
      " 7   loan       10578 non-null  object\n",
      " 8   contact    10578 non-null  object\n",
      " 9   day        10578 non-null  int64 \n",
      " 10  month      10578 non-null  object\n",
      " 11  duration   10578 non-null  int64 \n",
      " 12  campaign   10578 non-null  int64 \n",
      " 13  pdays      10578 non-null  int64 \n",
      " 14  previous   10578 non-null  int64 \n",
      " 15  poutcome   10578 non-null  object\n",
      " 16  y          10578 non-null  object\n",
      "dtypes: int64(7), object(10)\n",
      "memory usage: 1.4+ MB\n"
     ]
    }
   ],
   "source": [
    "X_resampled.info()   "
   ]
  },
  {
   "cell_type": "code",
   "execution_count": 17,
   "metadata": {},
   "outputs": [
    {
     "data": {
      "text/html": [
       "<div>\n",
       "<style scoped>\n",
       "    .dataframe tbody tr th:only-of-type {\n",
       "        vertical-align: middle;\n",
       "    }\n",
       "\n",
       "    .dataframe tbody tr th {\n",
       "        vertical-align: top;\n",
       "    }\n",
       "\n",
       "    .dataframe thead th {\n",
       "        text-align: right;\n",
       "    }\n",
       "</style>\n",
       "<table border=\"1\" class=\"dataframe\">\n",
       "  <thead>\n",
       "    <tr style=\"text-align: right;\">\n",
       "      <th></th>\n",
       "      <th>age</th>\n",
       "      <th>balance</th>\n",
       "      <th>day</th>\n",
       "      <th>duration</th>\n",
       "      <th>campaign</th>\n",
       "      <th>pdays</th>\n",
       "      <th>previous</th>\n",
       "    </tr>\n",
       "  </thead>\n",
       "  <tbody>\n",
       "    <tr>\n",
       "      <th>count</th>\n",
       "      <td>10578.000000</td>\n",
       "      <td>10578.000000</td>\n",
       "      <td>10578.000000</td>\n",
       "      <td>10578.000000</td>\n",
       "      <td>10578.000000</td>\n",
       "      <td>10578.000000</td>\n",
       "      <td>10578.000000</td>\n",
       "    </tr>\n",
       "    <tr>\n",
       "      <th>mean</th>\n",
       "      <td>41.316884</td>\n",
       "      <td>1530.914067</td>\n",
       "      <td>15.539894</td>\n",
       "      <td>379.122802</td>\n",
       "      <td>2.508130</td>\n",
       "      <td>52.548780</td>\n",
       "      <td>0.854509</td>\n",
       "    </tr>\n",
       "    <tr>\n",
       "      <th>std</th>\n",
       "      <td>11.989555</td>\n",
       "      <td>3218.291508</td>\n",
       "      <td>8.389991</td>\n",
       "      <td>349.839787</td>\n",
       "      <td>2.731116</td>\n",
       "      <td>108.804806</td>\n",
       "      <td>2.287155</td>\n",
       "    </tr>\n",
       "    <tr>\n",
       "      <th>min</th>\n",
       "      <td>18.000000</td>\n",
       "      <td>-3372.000000</td>\n",
       "      <td>1.000000</td>\n",
       "      <td>0.000000</td>\n",
       "      <td>1.000000</td>\n",
       "      <td>-1.000000</td>\n",
       "      <td>0.000000</td>\n",
       "    </tr>\n",
       "    <tr>\n",
       "      <th>25%</th>\n",
       "      <td>32.000000</td>\n",
       "      <td>117.000000</td>\n",
       "      <td>8.000000</td>\n",
       "      <td>144.000000</td>\n",
       "      <td>1.000000</td>\n",
       "      <td>-1.000000</td>\n",
       "      <td>0.000000</td>\n",
       "    </tr>\n",
       "    <tr>\n",
       "      <th>50%</th>\n",
       "      <td>39.000000</td>\n",
       "      <td>547.000000</td>\n",
       "      <td>15.000000</td>\n",
       "      <td>260.000000</td>\n",
       "      <td>2.000000</td>\n",
       "      <td>-1.000000</td>\n",
       "      <td>0.000000</td>\n",
       "    </tr>\n",
       "    <tr>\n",
       "      <th>75%</th>\n",
       "      <td>49.000000</td>\n",
       "      <td>1718.000000</td>\n",
       "      <td>21.000000</td>\n",
       "      <td>506.000000</td>\n",
       "      <td>3.000000</td>\n",
       "      <td>66.000000</td>\n",
       "      <td>1.000000</td>\n",
       "    </tr>\n",
       "    <tr>\n",
       "      <th>max</th>\n",
       "      <td>95.000000</td>\n",
       "      <td>81204.000000</td>\n",
       "      <td>31.000000</td>\n",
       "      <td>3881.000000</td>\n",
       "      <td>44.000000</td>\n",
       "      <td>854.000000</td>\n",
       "      <td>58.000000</td>\n",
       "    </tr>\n",
       "  </tbody>\n",
       "</table>\n",
       "</div>"
      ],
      "text/plain": [
       "                age       balance           day      duration      campaign  \\\n",
       "count  10578.000000  10578.000000  10578.000000  10578.000000  10578.000000   \n",
       "mean      41.316884   1530.914067     15.539894    379.122802      2.508130   \n",
       "std       11.989555   3218.291508      8.389991    349.839787      2.731116   \n",
       "min       18.000000  -3372.000000      1.000000      0.000000      1.000000   \n",
       "25%       32.000000    117.000000      8.000000    144.000000      1.000000   \n",
       "50%       39.000000    547.000000     15.000000    260.000000      2.000000   \n",
       "75%       49.000000   1718.000000     21.000000    506.000000      3.000000   \n",
       "max       95.000000  81204.000000     31.000000   3881.000000     44.000000   \n",
       "\n",
       "              pdays      previous  \n",
       "count  10578.000000  10578.000000  \n",
       "mean      52.548780      0.854509  \n",
       "std      108.804806      2.287155  \n",
       "min       -1.000000      0.000000  \n",
       "25%       -1.000000      0.000000  \n",
       "50%       -1.000000      0.000000  \n",
       "75%       66.000000      1.000000  \n",
       "max      854.000000     58.000000  "
      ]
     },
     "execution_count": 17,
     "metadata": {},
     "output_type": "execute_result"
    }
   ],
   "source": [
    "X_resampled.describe()"
   ]
  },
  {
   "cell_type": "code",
   "execution_count": 18,
   "metadata": {},
   "outputs": [
    {
     "data": {
      "text/plain": [
       "age          0\n",
       "job          0\n",
       "marital      0\n",
       "education    0\n",
       "default      0\n",
       "balance      0\n",
       "housing      0\n",
       "loan         0\n",
       "contact      0\n",
       "day          0\n",
       "month        0\n",
       "duration     0\n",
       "campaign     0\n",
       "pdays        0\n",
       "previous     0\n",
       "poutcome     0\n",
       "y            0\n",
       "dtype: int64"
      ]
     },
     "execution_count": 18,
     "metadata": {},
     "output_type": "execute_result"
    }
   ],
   "source": [
    "X_resampled.isnull().sum()"
   ]
  },
  {
   "cell_type": "code",
   "execution_count": 19,
   "metadata": {},
   "outputs": [
    {
     "data": {
      "text/plain": [
       "{'job': 12,\n",
       " 'marital': 3,\n",
       " 'education': 4,\n",
       " 'default': 2,\n",
       " 'housing': 2,\n",
       " 'loan': 2,\n",
       " 'contact': 3,\n",
       " 'month': 12,\n",
       " 'poutcome': 4,\n",
       " 'y': 2}"
      ]
     },
     "execution_count": 19,
     "metadata": {},
     "output_type": "execute_result"
    }
   ],
   "source": [
    "#Her özniteliğin sahip olduğu unique değerleri gösterdik\n",
    "{column:len(X_resampled[column].unique()) for column in X_resampled.select_dtypes(\"object\").columns}\n"
   ]
  },
  {
   "cell_type": "code",
   "execution_count": 20,
   "metadata": {},
   "outputs": [
    {
     "data": {
      "text/plain": [
       "age             int64\n",
       "job          category\n",
       "marital      category\n",
       "education    category\n",
       "default      category\n",
       "balance         int64\n",
       "housing      category\n",
       "loan         category\n",
       "contact      category\n",
       "day             int64\n",
       "month        category\n",
       "duration        int64\n",
       "campaign        int64\n",
       "pdays           int64\n",
       "previous        int64\n",
       "poutcome     category\n",
       "y            category\n",
       "dtype: object"
      ]
     },
     "execution_count": 20,
     "metadata": {},
     "output_type": "execute_result"
    }
   ],
   "source": [
    "X_resampled_Filtered = X_resampled.dropna(axis = 0, how = 'any')\n",
    "X_resampled_Filtered.dtypes\n",
    "for col in X_resampled_Filtered.iloc[:,[1, 2, 3, 4, 6, 7, 8, 10, 15, 16]]:\n",
    "    X_resampled_Filtered[col] = X_resampled_Filtered[col].astype('category')\n",
    "X_resampled_Filtered.dtypes"
   ]
  },
  {
   "cell_type": "code",
   "execution_count": 21,
   "metadata": {},
   "outputs": [
    {
     "data": {
      "text/plain": [
       "{'job': 12,\n",
       " 'marital': 3,\n",
       " 'education': 4,\n",
       " 'default': 2,\n",
       " 'housing': 2,\n",
       " 'loan': 2,\n",
       " 'contact': 3,\n",
       " 'month': 12,\n",
       " 'poutcome': 4,\n",
       " 'y': 2}"
      ]
     },
     "execution_count": 21,
     "metadata": {},
     "output_type": "execute_result"
    }
   ],
   "source": [
    "# Veriler arasından veri tipi object olanları category tipine çevirerek bu verilerdeki unique veri sayılarını gösterdik\n",
    "{column:len(X_resampled[column].unique()) \n",
    "for column in X_resampled_Filtered.select_dtypes(\"category\").columns}"
   ]
  },
  {
   "cell_type": "code",
   "execution_count": 22,
   "metadata": {},
   "outputs": [
    {
     "name": "stderr",
     "output_type": "stream",
     "text": [
      "C:\\Users\\borat\\Anaconda\\lib\\site-packages\\seaborn\\_decorators.py:36: FutureWarning: Pass the following variable as a keyword arg: x. From version 0.12, the only valid positional argument will be `data`, and passing other arguments without an explicit keyword will result in an error or misinterpretation.\n",
      "  warnings.warn(\n",
      "C:\\Users\\borat\\Anaconda\\lib\\site-packages\\seaborn\\_decorators.py:36: FutureWarning: Pass the following variable as a keyword arg: x. From version 0.12, the only valid positional argument will be `data`, and passing other arguments without an explicit keyword will result in an error or misinterpretation.\n",
      "  warnings.warn(\n",
      "C:\\Users\\borat\\Anaconda\\lib\\site-packages\\seaborn\\_decorators.py:36: FutureWarning: Pass the following variable as a keyword arg: x. From version 0.12, the only valid positional argument will be `data`, and passing other arguments without an explicit keyword will result in an error or misinterpretation.\n",
      "  warnings.warn(\n",
      "C:\\Users\\borat\\Anaconda\\lib\\site-packages\\seaborn\\_decorators.py:36: FutureWarning: Pass the following variable as a keyword arg: x. From version 0.12, the only valid positional argument will be `data`, and passing other arguments without an explicit keyword will result in an error or misinterpretation.\n",
      "  warnings.warn(\n",
      "C:\\Users\\borat\\Anaconda\\lib\\site-packages\\seaborn\\_decorators.py:36: FutureWarning: Pass the following variable as a keyword arg: x. From version 0.12, the only valid positional argument will be `data`, and passing other arguments without an explicit keyword will result in an error or misinterpretation.\n",
      "  warnings.warn(\n",
      "C:\\Users\\borat\\Anaconda\\lib\\site-packages\\seaborn\\_decorators.py:36: FutureWarning: Pass the following variable as a keyword arg: x. From version 0.12, the only valid positional argument will be `data`, and passing other arguments without an explicit keyword will result in an error or misinterpretation.\n",
      "  warnings.warn(\n",
      "C:\\Users\\borat\\Anaconda\\lib\\site-packages\\seaborn\\_decorators.py:36: FutureWarning: Pass the following variable as a keyword arg: x. From version 0.12, the only valid positional argument will be `data`, and passing other arguments without an explicit keyword will result in an error or misinterpretation.\n",
      "  warnings.warn(\n",
      "C:\\Users\\borat\\Anaconda\\lib\\site-packages\\seaborn\\_decorators.py:36: FutureWarning: Pass the following variable as a keyword arg: x. From version 0.12, the only valid positional argument will be `data`, and passing other arguments without an explicit keyword will result in an error or misinterpretation.\n",
      "  warnings.warn(\n",
      "C:\\Users\\borat\\Anaconda\\lib\\site-packages\\seaborn\\_decorators.py:36: FutureWarning: Pass the following variable as a keyword arg: x. From version 0.12, the only valid positional argument will be `data`, and passing other arguments without an explicit keyword will result in an error or misinterpretation.\n",
      "  warnings.warn(\n",
      "C:\\Users\\borat\\Anaconda\\lib\\site-packages\\seaborn\\_decorators.py:36: FutureWarning: Pass the following variable as a keyword arg: x. From version 0.12, the only valid positional argument will be `data`, and passing other arguments without an explicit keyword will result in an error or misinterpretation.\n",
      "  warnings.warn(\n"
     ]
    },
    {
     "data": {
      "image/png": "[encoded data removed]",
      "text/plain": [
       "<Figure size 1440x1224 with 10 Axes>"
      ]
     },
     "metadata": {
      "needs_background": "light"
     },
     "output_type": "display_data"
    }
   ],
   "source": [
    "# Kategorik verilerin tablolar halinde gösterilmesi\n",
    "plt.figure(figsize=(20,17))\n",
    "\n",
    "for i,column in enumerate(X_resampled_Filtered.select_dtypes(\"category\").columns):\n",
    "    plt.subplot(5,2,i+1)\n",
    "    sns.countplot(X_resampled[column], hue=X_resampled[\"y\"])\n",
    "    plt.title(column)\n",
    "    plt.suptitle(\"Kategorik Veriler\")\n",
    "    plt.xlabel(' ')"
   ]
  },
  {
   "cell_type": "markdown",
   "metadata": {},
   "source": [
    "#### Şu ana kadar yaptığımız işlemler sonucunda herhangi bir eksik verimiz olmadığını görmekteyiz. Şimdi ise elimizdeki verilerin içerisindeki aykırı verileri gösterme ve bunları düzenleme işlemlerine geçiyoruz."
   ]
  },
  {
   "cell_type": "code",
   "execution_count": 23,
   "metadata": {
    "scrolled": true
   },
   "outputs": [
    {
     "data": {
      "text/plain": [
       "<AxesSubplot:xlabel='pdays', ylabel='y'>"
      ]
     },
     "execution_count": 23,
     "metadata": {},
     "output_type": "execute_result"
    },
    {
     "data": {
      "image/png": "[encoded data removed]",
      "text/plain": [
       "<Figure size 432x288 with 1 Axes>"
      ]
     },
     "metadata": {
      "needs_background": "light"
     },
     "output_type": "display_data"
    }
   ],
   "source": [
    "sns.boxplot(x=X_resampled[\"pdays\"],y=X_resampled[\"y\"])"
   ]
  },
  {
   "cell_type": "code",
   "execution_count": 24,
   "metadata": {},
   "outputs": [
    {
     "data": {
      "text/plain": [
       "<AxesSubplot:xlabel='previous', ylabel='y'>"
      ]
     },
     "execution_count": 24,
     "metadata": {},
     "output_type": "execute_result"
    },
    {
     "data": {
      "image/png": "[encoded data removed]",
      "text/plain": [
       "<Figure size 432x288 with 1 Axes>"
      ]
     },
     "metadata": {
      "needs_background": "light"
     },
     "output_type": "display_data"
    }
   ],
   "source": [
    "sns.boxplot(x=X_resampled[\"previous\"],y=X_resampled[\"y\"])"
   ]
  },
  {
   "cell_type": "code",
   "execution_count": 25,
   "metadata": {},
   "outputs": [
    {
     "data": {
      "text/plain": [
       "<AxesSubplot:xlabel='day', ylabel='y'>"
      ]
     },
     "execution_count": 25,
     "metadata": {},
     "output_type": "execute_result"
    },
    {
     "data": {
      "image/png": "[encoded data removed]",
      "text/plain": [
       "<Figure size 432x288 with 1 Axes>"
      ]
     },
     "metadata": {
      "needs_background": "light"
     },
     "output_type": "display_data"
    }
   ],
   "source": [
    "sns.boxplot(x=X_resampled[\"day\"],y=X_resampled[\"y\"])"
   ]
  },
  {
   "cell_type": "code",
   "execution_count": 26,
   "metadata": {},
   "outputs": [
    {
     "data": {
      "text/plain": [
       "<AxesSubplot:xlabel='duration', ylabel='y'>"
      ]
     },
     "execution_count": 26,
     "metadata": {},
     "output_type": "execute_result"
    },
    {
     "data": {
      "image/png": "[encoded data removed]",
      "text/plain": [
       "<Figure size 432x288 with 1 Axes>"
      ]
     },
     "metadata": {
      "needs_background": "light"
     },
     "output_type": "display_data"
    }
   ],
   "source": [
    "sns.boxplot(x=X_resampled[\"duration\"],y=X_resampled[\"y\"])"
   ]
  },
  {
   "cell_type": "code",
   "execution_count": 27,
   "metadata": {},
   "outputs": [
    {
     "data": {
      "text/plain": [
       "<AxesSubplot:xlabel='age', ylabel='y'>"
      ]
     },
     "execution_count": 27,
     "metadata": {},
     "output_type": "execute_result"
    },
    {
     "data": {
      "image/png": "[encoded data removed]",
      "text/plain": [
       "<Figure size 432x288 with 1 Axes>"
      ]
     },
     "metadata": {
      "needs_background": "light"
     },
     "output_type": "display_data"
    }
   ],
   "source": [
    "sns.boxplot(x=X_resampled[\"age\"],y=X_resampled[\"y\"])"
   ]
  },
  {
   "cell_type": "code",
   "execution_count": 28,
   "metadata": {},
   "outputs": [
    {
     "data": {
      "text/plain": [
       "<AxesSubplot:xlabel='balance', ylabel='y'>"
      ]
     },
     "execution_count": 28,
     "metadata": {},
     "output_type": "execute_result"
    },
    {
     "data": {
      "image/png": "[encoded data removed]",
      "text/plain": [
       "<Figure size 432x288 with 1 Axes>"
      ]
     },
     "metadata": {
      "needs_background": "light"
     },
     "output_type": "display_data"
    }
   ],
   "source": [
    "sns.boxplot(x=X_resampled[\"balance\"],y=X_resampled[\"y\"])"
   ]
  },
  {
   "cell_type": "code",
   "execution_count": 29,
   "metadata": {},
   "outputs": [
    {
     "data": {
      "text/plain": [
       "<AxesSubplot:xlabel='campaign', ylabel='y'>"
      ]
     },
     "execution_count": 29,
     "metadata": {},
     "output_type": "execute_result"
    },
    {
     "data": {
      "image/png": "[encoded data removed]",
      "text/plain": [
       "<Figure size 432x288 with 1 Axes>"
      ]
     },
     "metadata": {
      "needs_background": "light"
     },
     "output_type": "display_data"
    }
   ],
   "source": [
    "sns.boxplot(x=X_resampled[\"campaign\"],y=X_resampled[\"y\"])"
   ]
  },
  {
   "cell_type": "code",
   "execution_count": 30,
   "metadata": {},
   "outputs": [
    {
     "data": {
      "text/html": [
       "<div>\n",
       "<style scoped>\n",
       "    .dataframe tbody tr th:only-of-type {\n",
       "        vertical-align: middle;\n",
       "    }\n",
       "\n",
       "    .dataframe tbody tr th {\n",
       "        vertical-align: top;\n",
       "    }\n",
       "\n",
       "    .dataframe thead th {\n",
       "        text-align: right;\n",
       "    }\n",
       "</style>\n",
       "<table border=\"1\" class=\"dataframe\">\n",
       "  <thead>\n",
       "    <tr style=\"text-align: right;\">\n",
       "      <th></th>\n",
       "      <th>age</th>\n",
       "      <th>job</th>\n",
       "      <th>marital</th>\n",
       "      <th>education</th>\n",
       "      <th>default</th>\n",
       "      <th>balance</th>\n",
       "      <th>housing</th>\n",
       "      <th>loan</th>\n",
       "      <th>contact</th>\n",
       "      <th>day</th>\n",
       "      <th>month</th>\n",
       "      <th>duration</th>\n",
       "      <th>campaign</th>\n",
       "      <th>pdays</th>\n",
       "      <th>previous</th>\n",
       "      <th>poutcome</th>\n",
       "      <th>y</th>\n",
       "    </tr>\n",
       "  </thead>\n",
       "  <tbody>\n",
       "    <tr>\n",
       "      <th>0</th>\n",
       "      <td>59</td>\n",
       "      <td>0</td>\n",
       "      <td>1</td>\n",
       "      <td>1</td>\n",
       "      <td>0</td>\n",
       "      <td>2343</td>\n",
       "      <td>1</td>\n",
       "      <td>0</td>\n",
       "      <td>2</td>\n",
       "      <td>5</td>\n",
       "      <td>8</td>\n",
       "      <td>1042</td>\n",
       "      <td>1</td>\n",
       "      <td>-1</td>\n",
       "      <td>0</td>\n",
       "      <td>3</td>\n",
       "      <td>0</td>\n",
       "    </tr>\n",
       "    <tr>\n",
       "      <th>1</th>\n",
       "      <td>56</td>\n",
       "      <td>0</td>\n",
       "      <td>1</td>\n",
       "      <td>1</td>\n",
       "      <td>0</td>\n",
       "      <td>45</td>\n",
       "      <td>0</td>\n",
       "      <td>0</td>\n",
       "      <td>2</td>\n",
       "      <td>5</td>\n",
       "      <td>8</td>\n",
       "      <td>1467</td>\n",
       "      <td>1</td>\n",
       "      <td>-1</td>\n",
       "      <td>0</td>\n",
       "      <td>3</td>\n",
       "      <td>0</td>\n",
       "    </tr>\n",
       "    <tr>\n",
       "      <th>2</th>\n",
       "      <td>41</td>\n",
       "      <td>9</td>\n",
       "      <td>1</td>\n",
       "      <td>1</td>\n",
       "      <td>0</td>\n",
       "      <td>1270</td>\n",
       "      <td>1</td>\n",
       "      <td>0</td>\n",
       "      <td>2</td>\n",
       "      <td>5</td>\n",
       "      <td>8</td>\n",
       "      <td>1389</td>\n",
       "      <td>1</td>\n",
       "      <td>-1</td>\n",
       "      <td>0</td>\n",
       "      <td>3</td>\n",
       "      <td>0</td>\n",
       "    </tr>\n",
       "    <tr>\n",
       "      <th>3</th>\n",
       "      <td>55</td>\n",
       "      <td>7</td>\n",
       "      <td>1</td>\n",
       "      <td>1</td>\n",
       "      <td>0</td>\n",
       "      <td>2476</td>\n",
       "      <td>1</td>\n",
       "      <td>0</td>\n",
       "      <td>2</td>\n",
       "      <td>5</td>\n",
       "      <td>8</td>\n",
       "      <td>579</td>\n",
       "      <td>1</td>\n",
       "      <td>-1</td>\n",
       "      <td>0</td>\n",
       "      <td>3</td>\n",
       "      <td>0</td>\n",
       "    </tr>\n",
       "    <tr>\n",
       "      <th>4</th>\n",
       "      <td>54</td>\n",
       "      <td>0</td>\n",
       "      <td>1</td>\n",
       "      <td>2</td>\n",
       "      <td>0</td>\n",
       "      <td>184</td>\n",
       "      <td>0</td>\n",
       "      <td>0</td>\n",
       "      <td>2</td>\n",
       "      <td>5</td>\n",
       "      <td>8</td>\n",
       "      <td>673</td>\n",
       "      <td>2</td>\n",
       "      <td>-1</td>\n",
       "      <td>0</td>\n",
       "      <td>3</td>\n",
       "      <td>0</td>\n",
       "    </tr>\n",
       "    <tr>\n",
       "      <th>...</th>\n",
       "      <td>...</td>\n",
       "      <td>...</td>\n",
       "      <td>...</td>\n",
       "      <td>...</td>\n",
       "      <td>...</td>\n",
       "      <td>...</td>\n",
       "      <td>...</td>\n",
       "      <td>...</td>\n",
       "      <td>...</td>\n",
       "      <td>...</td>\n",
       "      <td>...</td>\n",
       "      <td>...</td>\n",
       "      <td>...</td>\n",
       "      <td>...</td>\n",
       "      <td>...</td>\n",
       "      <td>...</td>\n",
       "      <td>...</td>\n",
       "    </tr>\n",
       "    <tr>\n",
       "      <th>10573</th>\n",
       "      <td>47</td>\n",
       "      <td>9</td>\n",
       "      <td>1</td>\n",
       "      <td>1</td>\n",
       "      <td>0</td>\n",
       "      <td>-401</td>\n",
       "      <td>1</td>\n",
       "      <td>0</td>\n",
       "      <td>2</td>\n",
       "      <td>23</td>\n",
       "      <td>8</td>\n",
       "      <td>78</td>\n",
       "      <td>1</td>\n",
       "      <td>-1</td>\n",
       "      <td>0</td>\n",
       "      <td>3</td>\n",
       "      <td>1</td>\n",
       "    </tr>\n",
       "    <tr>\n",
       "      <th>10574</th>\n",
       "      <td>52</td>\n",
       "      <td>9</td>\n",
       "      <td>0</td>\n",
       "      <td>1</td>\n",
       "      <td>0</td>\n",
       "      <td>0</td>\n",
       "      <td>0</td>\n",
       "      <td>0</td>\n",
       "      <td>1</td>\n",
       "      <td>17</td>\n",
       "      <td>9</td>\n",
       "      <td>215</td>\n",
       "      <td>3</td>\n",
       "      <td>-1</td>\n",
       "      <td>0</td>\n",
       "      <td>3</td>\n",
       "      <td>1</td>\n",
       "    </tr>\n",
       "    <tr>\n",
       "      <th>10575</th>\n",
       "      <td>39</td>\n",
       "      <td>1</td>\n",
       "      <td>1</td>\n",
       "      <td>0</td>\n",
       "      <td>0</td>\n",
       "      <td>1433</td>\n",
       "      <td>1</td>\n",
       "      <td>0</td>\n",
       "      <td>0</td>\n",
       "      <td>8</td>\n",
       "      <td>8</td>\n",
       "      <td>182</td>\n",
       "      <td>2</td>\n",
       "      <td>366</td>\n",
       "      <td>1</td>\n",
       "      <td>1</td>\n",
       "      <td>1</td>\n",
       "    </tr>\n",
       "    <tr>\n",
       "      <th>10576</th>\n",
       "      <td>57</td>\n",
       "      <td>4</td>\n",
       "      <td>1</td>\n",
       "      <td>1</td>\n",
       "      <td>0</td>\n",
       "      <td>-868</td>\n",
       "      <td>1</td>\n",
       "      <td>1</td>\n",
       "      <td>0</td>\n",
       "      <td>23</td>\n",
       "      <td>5</td>\n",
       "      <td>186</td>\n",
       "      <td>1</td>\n",
       "      <td>-1</td>\n",
       "      <td>0</td>\n",
       "      <td>3</td>\n",
       "      <td>1</td>\n",
       "    </tr>\n",
       "    <tr>\n",
       "      <th>10577</th>\n",
       "      <td>33</td>\n",
       "      <td>0</td>\n",
       "      <td>2</td>\n",
       "      <td>1</td>\n",
       "      <td>0</td>\n",
       "      <td>2557</td>\n",
       "      <td>1</td>\n",
       "      <td>0</td>\n",
       "      <td>0</td>\n",
       "      <td>18</td>\n",
       "      <td>8</td>\n",
       "      <td>186</td>\n",
       "      <td>1</td>\n",
       "      <td>-1</td>\n",
       "      <td>0</td>\n",
       "      <td>3</td>\n",
       "      <td>1</td>\n",
       "    </tr>\n",
       "  </tbody>\n",
       "</table>\n",
       "<p>10578 rows × 17 columns</p>\n",
       "</div>"
      ],
      "text/plain": [
       "       age  job  marital  education  default  balance  housing  loan  contact  \\\n",
       "0       59    0        1          1        0     2343        1     0        2   \n",
       "1       56    0        1          1        0       45        0     0        2   \n",
       "2       41    9        1          1        0     1270        1     0        2   \n",
       "3       55    7        1          1        0     2476        1     0        2   \n",
       "4       54    0        1          2        0      184        0     0        2   \n",
       "...    ...  ...      ...        ...      ...      ...      ...   ...      ...   \n",
       "10573   47    9        1          1        0     -401        1     0        2   \n",
       "10574   52    9        0          1        0        0        0     0        1   \n",
       "10575   39    1        1          0        0     1433        1     0        0   \n",
       "10576   57    4        1          1        0     -868        1     1        0   \n",
       "10577   33    0        2          1        0     2557        1     0        0   \n",
       "\n",
       "       day  month  duration  campaign  pdays  previous  poutcome  y  \n",
       "0        5      8      1042         1     -1         0         3  0  \n",
       "1        5      8      1467         1     -1         0         3  0  \n",
       "2        5      8      1389         1     -1         0         3  0  \n",
       "3        5      8       579         1     -1         0         3  0  \n",
       "4        5      8       673         2     -1         0         3  0  \n",
       "...    ...    ...       ...       ...    ...       ...       ... ..  \n",
       "10573   23      8        78         1     -1         0         3  1  \n",
       "10574   17      9       215         3     -1         0         3  1  \n",
       "10575    8      8       182         2    366         1         1  1  \n",
       "10576   23      5       186         1     -1         0         3  1  \n",
       "10577   18      8       186         1     -1         0         3  1  \n",
       "\n",
       "[10578 rows x 17 columns]"
      ]
     },
     "execution_count": 30,
     "metadata": {},
     "output_type": "execute_result"
    }
   ],
   "source": [
    "# Verileri LabelEncoder ile sayısal hale getiriyoruz.\n",
    "from sklearn.preprocessing import LabelEncoder\n",
    "yenilenmis = X_resampled.apply(lambda x : LabelEncoder().fit_transform(x) if x.dtype ==\"object\" else x)\n",
    "yenilenmis"
   ]
  },
  {
   "cell_type": "code",
   "execution_count": 31,
   "metadata": {},
   "outputs": [
    {
     "data": {
      "text/plain": [
       "age           17.0\n",
       "balance     1601.0\n",
       "day           13.0\n",
       "duration     362.0\n",
       "campaign       2.0\n",
       "pdays         67.0\n",
       "previous       1.0\n",
       "dtype: float64"
      ]
     },
     "execution_count": 31,
     "metadata": {},
     "output_type": "execute_result"
    }
   ],
   "source": [
    "Q1 = X_resampled.quantile(0.25)\n",
    "Q3 = X_resampled.quantile(0.75)\n",
    "IQR = Q3-Q1\n",
    "IQR"
   ]
  },
  {
   "cell_type": "code",
   "execution_count": 32,
   "metadata": {
    "scrolled": true
   },
   "outputs": [
    {
     "data": {
      "text/plain": [
       "67.0"
      ]
     },
     "execution_count": 32,
     "metadata": {},
     "output_type": "execute_result"
    }
   ],
   "source": [
    "Q1_pdays = X_resampled.pdays.quantile(0.25)\n",
    "Q3_pdays = X_resampled.pdays.quantile(0.75)\n",
    "IQR_pdays = Q3_pdays-Q1_pdays\n",
    "IQR_pdays"
   ]
  },
  {
   "cell_type": "code",
   "execution_count": 33,
   "metadata": {},
   "outputs": [
    {
     "data": {
      "text/plain": [
       "166.5"
      ]
     },
     "execution_count": 33,
     "metadata": {},
     "output_type": "execute_result"
    }
   ],
   "source": [
    "pdays_ust_sinir = Q3_pdays + 1.5*IQR_pdays\n",
    "pdays_ust_sinir"
   ]
  },
  {
   "cell_type": "code",
   "execution_count": 34,
   "metadata": {},
   "outputs": [
    {
     "data": {
      "text/plain": [
       "(616, 17)"
      ]
     },
     "execution_count": 34,
     "metadata": {},
     "output_type": "execute_result"
    }
   ],
   "source": [
    "yenilenmis_pdays_atilacak = yenilenmis[(yenilenmis[\"pdays\"]> (Q3_pdays+ 1.5*IQR_pdays))&yenilenmis[\"y\"]]\n",
    "yenilenmis_pdays_atilacak.shape"
   ]
  },
  {
   "cell_type": "code",
   "execution_count": 35,
   "metadata": {},
   "outputs": [
    {
     "data": {
      "text/plain": [
       "(9962, 17)"
      ]
     },
     "execution_count": 35,
     "metadata": {},
     "output_type": "execute_result"
    }
   ],
   "source": [
    "# 1- Toplam 616 satır ayrkırı verimiz bulunuyor ve bunları şimdi atacağız.\n",
    "yenilenmis.drop( yenilenmis[(yenilenmis[\"pdays\"] > (Q3_pdays+ 1.5*IQR_pdays))&yenilenmis[\"y\"]].index,inplace=True)\n",
    "yenilenmis.shape"
   ]
  },
  {
   "cell_type": "code",
   "execution_count": 36,
   "metadata": {},
   "outputs": [
    {
     "data": {
      "text/plain": [
       "1.0"
      ]
     },
     "execution_count": 36,
     "metadata": {},
     "output_type": "execute_result"
    }
   ],
   "source": [
    "Q1_previous = X_resampled.previous.quantile(0.25)\n",
    "Q3_previous = X_resampled.previous.quantile(0.75)\n",
    "IQR_previous = Q3_previous-Q1_previous\n",
    "IQR_previous"
   ]
  },
  {
   "cell_type": "code",
   "execution_count": 37,
   "metadata": {},
   "outputs": [
    {
     "data": {
      "text/plain": [
       "2.5"
      ]
     },
     "execution_count": 37,
     "metadata": {},
     "output_type": "execute_result"
    }
   ],
   "source": [
    "previous_ust_sinir = Q3_previous + 1.5*IQR_previous\n",
    "previous_ust_sinir"
   ]
  },
  {
   "cell_type": "code",
   "execution_count": 38,
   "metadata": {},
   "outputs": [
    {
     "data": {
      "text/plain": [
       "(101, 17)"
      ]
     },
     "execution_count": 38,
     "metadata": {},
     "output_type": "execute_result"
    }
   ],
   "source": [
    "yenilenmis_pdays_atilacak = yenilenmis[(yenilenmis[\"previous\"]> (Q3_previous+ 1.5*IQR_previous))&yenilenmis[\"y\"]]\n",
    "yenilenmis_pdays_atilacak.shape"
   ]
  },
  {
   "cell_type": "code",
   "execution_count": 39,
   "metadata": {},
   "outputs": [
    {
     "data": {
      "text/plain": [
       "(9861, 17)"
      ]
     },
     "execution_count": 39,
     "metadata": {},
     "output_type": "execute_result"
    }
   ],
   "source": [
    "# 2- Toplam 101 adet aykırı previous verisini atıyoruz.\n",
    "yenilenmis.drop( yenilenmis[(yenilenmis[\"previous\"] > (Q3_previous+ 1.5*IQR_previous))&yenilenmis[\"y\"]].index,inplace=True)\n",
    "yenilenmis.shape"
   ]
  },
  {
   "cell_type": "code",
   "execution_count": 40,
   "metadata": {},
   "outputs": [
    {
     "data": {
      "text/plain": [
       "13.0"
      ]
     },
     "execution_count": 40,
     "metadata": {},
     "output_type": "execute_result"
    }
   ],
   "source": [
    "Q1_day = X_resampled.day.quantile(0.25)\n",
    "Q3_day = X_resampled.day.quantile(0.75)\n",
    "IQR_day = Q3_day-Q1_day\n",
    "IQR_day"
   ]
  },
  {
   "cell_type": "code",
   "execution_count": 41,
   "metadata": {},
   "outputs": [
    {
     "data": {
      "text/plain": [
       "40.5"
      ]
     },
     "execution_count": 41,
     "metadata": {},
     "output_type": "execute_result"
    }
   ],
   "source": [
    "day_ust_sinir = Q3_day + 1.5*IQR_day\n",
    "day_ust_sinir"
   ]
  },
  {
   "cell_type": "code",
   "execution_count": 42,
   "metadata": {},
   "outputs": [
    {
     "data": {
      "text/plain": [
       "(0, 17)"
      ]
     },
     "execution_count": 42,
     "metadata": {},
     "output_type": "execute_result"
    }
   ],
   "source": [
    "previous_day_atilacak = yenilenmis[(yenilenmis[\"day\"]> (Q3_day+ 1.5*IQR_day))&yenilenmis[\"y\"]]\n",
    "previous_day_atilacak.shape"
   ]
  },
  {
   "cell_type": "markdown",
   "metadata": {},
   "source": [
    "### day özniteliğinin grafiğinde de gördüğümüz gibi veriler içerisinde herhangi bir aykırı veri yoktur"
   ]
  },
  {
   "cell_type": "code",
   "execution_count": 43,
   "metadata": {},
   "outputs": [
    {
     "data": {
      "text/plain": [
       "362.0"
      ]
     },
     "execution_count": 43,
     "metadata": {},
     "output_type": "execute_result"
    }
   ],
   "source": [
    "Q1_duration = X_resampled.duration.quantile(0.25)\n",
    "Q3_duration = X_resampled.duration.quantile(0.75)\n",
    "IQR_duration = Q3_duration-Q1_duration\n",
    "IQR_duration"
   ]
  },
  {
   "cell_type": "code",
   "execution_count": 44,
   "metadata": {},
   "outputs": [
    {
     "data": {
      "text/plain": [
       "1049.0"
      ]
     },
     "execution_count": 44,
     "metadata": {},
     "output_type": "execute_result"
    }
   ],
   "source": [
    "duration_ust_sinir = Q3_duration + 1.5*IQR_duration\n",
    "duration_ust_sinir"
   ]
  },
  {
   "cell_type": "code",
   "execution_count": 45,
   "metadata": {},
   "outputs": [
    {
     "data": {
      "text/plain": [
       "(38, 17)"
      ]
     },
     "execution_count": 45,
     "metadata": {},
     "output_type": "execute_result"
    }
   ],
   "source": [
    "yenilenmis_duration_atilacak = yenilenmis[(yenilenmis[\"duration\"]> (Q3_duration+ 1.5*IQR_duration))&yenilenmis[\"y\"]]\n",
    "yenilenmis_duration_atilacak.shape"
   ]
  },
  {
   "cell_type": "code",
   "execution_count": 46,
   "metadata": {},
   "outputs": [
    {
     "data": {
      "text/plain": [
       "(9823, 17)"
      ]
     },
     "execution_count": 46,
     "metadata": {},
     "output_type": "execute_result"
    }
   ],
   "source": [
    "yenilenmis.drop( yenilenmis[(yenilenmis[\"duration\"] > (Q3_duration+ 1.5*IQR_duration))&yenilenmis[\"y\"]].index,inplace=True)\n",
    "yenilenmis.shape"
   ]
  },
  {
   "cell_type": "code",
   "execution_count": 47,
   "metadata": {},
   "outputs": [
    {
     "data": {
      "text/plain": [
       "17.0"
      ]
     },
     "execution_count": 47,
     "metadata": {},
     "output_type": "execute_result"
    }
   ],
   "source": [
    "Q1_age = X_resampled.age.quantile(0.25)\n",
    "Q3_age = X_resampled.age.quantile(0.75)\n",
    "IQR_age = Q3_age-Q1_age\n",
    "IQR_age"
   ]
  },
  {
   "cell_type": "code",
   "execution_count": 48,
   "metadata": {},
   "outputs": [
    {
     "data": {
      "text/plain": [
       "74.5"
      ]
     },
     "execution_count": 48,
     "metadata": {},
     "output_type": "execute_result"
    }
   ],
   "source": [
    "age_ust_sinir = Q3_age + 1.5*IQR_age\n",
    "age_ust_sinir"
   ]
  },
  {
   "cell_type": "code",
   "execution_count": 49,
   "metadata": {},
   "outputs": [
    {
     "data": {
      "text/plain": [
       "(20, 17)"
      ]
     },
     "execution_count": 49,
     "metadata": {},
     "output_type": "execute_result"
    }
   ],
   "source": [
    "yenilenmis_age_atilacak = yenilenmis[(yenilenmis[\"age\"]> (Q3_age+ 1.5*IQR_age))&yenilenmis[\"y\"]]\n",
    "yenilenmis_age_atilacak.shape"
   ]
  },
  {
   "cell_type": "code",
   "execution_count": 50,
   "metadata": {},
   "outputs": [
    {
     "data": {
      "text/plain": [
       "(9803, 17)"
      ]
     },
     "execution_count": 50,
     "metadata": {},
     "output_type": "execute_result"
    }
   ],
   "source": [
    "yenilenmis.drop( yenilenmis[(yenilenmis[\"age\"]> (Q3_age+ 1.5*IQR_age))&yenilenmis[\"y\"]].index,inplace=True)\n",
    "yenilenmis.shape"
   ]
  },
  {
   "cell_type": "code",
   "execution_count": 51,
   "metadata": {},
   "outputs": [
    {
     "data": {
      "text/plain": [
       "1601.0"
      ]
     },
     "execution_count": 51,
     "metadata": {},
     "output_type": "execute_result"
    }
   ],
   "source": [
    "Q1_balance = X_resampled.balance.quantile(0.25)\n",
    "Q3_balance = X_resampled.balance.quantile(0.75)\n",
    "IQR_balance = Q3_balance-Q1_balance\n",
    "IQR_balance"
   ]
  },
  {
   "cell_type": "code",
   "execution_count": 52,
   "metadata": {},
   "outputs": [
    {
     "data": {
      "text/plain": [
       "4119.5"
      ]
     },
     "execution_count": 52,
     "metadata": {},
     "output_type": "execute_result"
    }
   ],
   "source": [
    "balance_ust_sinir = Q3_balance + 1.5*IQR_balance\n",
    "balance_ust_sinir"
   ]
  },
  {
   "cell_type": "code",
   "execution_count": 53,
   "metadata": {},
   "outputs": [
    {
     "data": {
      "text/plain": [
       "-2284.5"
      ]
     },
     "execution_count": 53,
     "metadata": {},
     "output_type": "execute_result"
    }
   ],
   "source": [
    "balance_alt_sinir = Q1_balance - 1.5*IQR_balance\n",
    "balance_alt_sinir"
   ]
  },
  {
   "cell_type": "code",
   "execution_count": 54,
   "metadata": {},
   "outputs": [
    {
     "data": {
      "text/plain": [
       "(348, 17)"
      ]
     },
     "execution_count": 54,
     "metadata": {},
     "output_type": "execute_result"
    }
   ],
   "source": [
    "yenilenmis_balance_atilacak_ust = yenilenmis[(yenilenmis[\"balance\"]> (Q3_balance+ 1.5*IQR_balance))&yenilenmis[\"y\"]]\n",
    "yenilenmis_balance_atilacak_ust.shape"
   ]
  },
  {
   "cell_type": "code",
   "execution_count": 55,
   "metadata": {},
   "outputs": [
    {
     "data": {
      "text/plain": [
       "(1, 17)"
      ]
     },
     "execution_count": 55,
     "metadata": {},
     "output_type": "execute_result"
    }
   ],
   "source": [
    "yenilenmis_balance_atilacak_alt = yenilenmis[(yenilenmis[\"balance\"] < (Q1_balance - 1.5*IQR_balance))&yenilenmis[\"y\"]]\n",
    "yenilenmis_balance_atilacak_alt.shape"
   ]
  },
  {
   "cell_type": "code",
   "execution_count": 56,
   "metadata": {},
   "outputs": [
    {
     "data": {
      "text/plain": [
       "(9454, 17)"
      ]
     },
     "execution_count": 56,
     "metadata": {},
     "output_type": "execute_result"
    }
   ],
   "source": [
    "yenilenmis.drop( yenilenmis[(yenilenmis[\"balance\"]> (Q3_balance+ 1.5*IQR_balance))&yenilenmis[\"y\"]].index,inplace=True)\n",
    "yenilenmis.drop( yenilenmis[(yenilenmis[\"balance\"] < (Q1_balance - 1.5*IQR_balance))&yenilenmis[\"y\"]].index,inplace=True)\n",
    "yenilenmis.shape"
   ]
  },
  {
   "cell_type": "code",
   "execution_count": 57,
   "metadata": {},
   "outputs": [
    {
     "data": {
      "text/plain": [
       "2.0"
      ]
     },
     "execution_count": 57,
     "metadata": {},
     "output_type": "execute_result"
    }
   ],
   "source": [
    "Q1_campaign = X_resampled.campaign.quantile(0.25)\n",
    "Q3_campaign = X_resampled.campaign.quantile(0.75)\n",
    "IQR_campaign = Q3_campaign-Q1_campaign\n",
    "IQR_campaign"
   ]
  },
  {
   "cell_type": "code",
   "execution_count": 58,
   "metadata": {},
   "outputs": [
    {
     "data": {
      "text/plain": [
       "(335, 17)"
      ]
     },
     "execution_count": 58,
     "metadata": {},
     "output_type": "execute_result"
    }
   ],
   "source": [
    "yenilenmis_campaign_atilacak = yenilenmis[(yenilenmis[\"campaign\"]> (Q3_campaign+ 1.5*IQR_campaign))&yenilenmis[\"y\"]]\n",
    "yenilenmis_campaign_atilacak.shape"
   ]
  },
  {
   "cell_type": "code",
   "execution_count": 59,
   "metadata": {},
   "outputs": [
    {
     "data": {
      "text/plain": [
       "(9119, 17)"
      ]
     },
     "execution_count": 59,
     "metadata": {},
     "output_type": "execute_result"
    }
   ],
   "source": [
    "yenilenmis.drop( yenilenmis[(yenilenmis[\"campaign\"] > (Q3_campaign + 1.5*IQR_campaign))&yenilenmis[\"y\"]].index,inplace=True)\n",
    "yenilenmis.shape"
   ]
  },
  {
   "cell_type": "code",
   "execution_count": 60,
   "metadata": {},
   "outputs": [
    {
     "data": {
      "text/html": [
       "<div>\n",
       "<style scoped>\n",
       "    .dataframe tbody tr th:only-of-type {\n",
       "        vertical-align: middle;\n",
       "    }\n",
       "\n",
       "    .dataframe tbody tr th {\n",
       "        vertical-align: top;\n",
       "    }\n",
       "\n",
       "    .dataframe thead th {\n",
       "        text-align: right;\n",
       "    }\n",
       "</style>\n",
       "<table border=\"1\" class=\"dataframe\">\n",
       "  <thead>\n",
       "    <tr style=\"text-align: right;\">\n",
       "      <th></th>\n",
       "      <th>age</th>\n",
       "      <th>job</th>\n",
       "      <th>marital</th>\n",
       "      <th>education</th>\n",
       "      <th>default</th>\n",
       "      <th>balance</th>\n",
       "      <th>housing</th>\n",
       "      <th>loan</th>\n",
       "      <th>contact</th>\n",
       "      <th>day</th>\n",
       "      <th>month</th>\n",
       "      <th>duration</th>\n",
       "      <th>campaign</th>\n",
       "      <th>pdays</th>\n",
       "      <th>previous</th>\n",
       "      <th>poutcome</th>\n",
       "      <th>y</th>\n",
       "    </tr>\n",
       "  </thead>\n",
       "  <tbody>\n",
       "    <tr>\n",
       "      <th>count</th>\n",
       "      <td>9119.000000</td>\n",
       "      <td>9119.000000</td>\n",
       "      <td>9119.000000</td>\n",
       "      <td>9119.000000</td>\n",
       "      <td>9119.000000</td>\n",
       "      <td>9119.000000</td>\n",
       "      <td>9119.000000</td>\n",
       "      <td>9119.000000</td>\n",
       "      <td>9119.000000</td>\n",
       "      <td>9119.000000</td>\n",
       "      <td>9119.000000</td>\n",
       "      <td>9119.000000</td>\n",
       "      <td>9119.000000</td>\n",
       "      <td>9119.000000</td>\n",
       "      <td>9119.000000</td>\n",
       "      <td>9119.000000</td>\n",
       "      <td>9119.000000</td>\n",
       "    </tr>\n",
       "    <tr>\n",
       "      <th>mean</th>\n",
       "      <td>41.277333</td>\n",
       "      <td>4.541836</td>\n",
       "      <td>1.203092</td>\n",
       "      <td>1.291808</td>\n",
       "      <td>0.014146</td>\n",
       "      <td>1326.213949</td>\n",
       "      <td>0.447746</td>\n",
       "      <td>0.126988</td>\n",
       "      <td>0.496655</td>\n",
       "      <td>15.456739</td>\n",
       "      <td>5.454874</td>\n",
       "      <td>402.575611</td>\n",
       "      <td>2.169426</td>\n",
       "      <td>40.665972</td>\n",
       "      <td>0.697774</td>\n",
       "      <td>2.591183</td>\n",
       "      <td>0.420002</td>\n",
       "    </tr>\n",
       "    <tr>\n",
       "      <th>std</th>\n",
       "      <td>12.126678</td>\n",
       "      <td>3.248463</td>\n",
       "      <td>0.631993</td>\n",
       "      <td>0.743953</td>\n",
       "      <td>0.118100</td>\n",
       "      <td>2792.797671</td>\n",
       "      <td>0.497289</td>\n",
       "      <td>0.332977</td>\n",
       "      <td>0.825247</td>\n",
       "      <td>8.398084</td>\n",
       "      <td>3.204467</td>\n",
       "      <td>355.669307</td>\n",
       "      <td>1.707474</td>\n",
       "      <td>97.031561</td>\n",
       "      <td>2.029695</td>\n",
       "      <td>0.875812</td>\n",
       "      <td>0.493586</td>\n",
       "    </tr>\n",
       "    <tr>\n",
       "      <th>min</th>\n",
       "      <td>18.000000</td>\n",
       "      <td>0.000000</td>\n",
       "      <td>0.000000</td>\n",
       "      <td>0.000000</td>\n",
       "      <td>0.000000</td>\n",
       "      <td>-3058.000000</td>\n",
       "      <td>0.000000</td>\n",
       "      <td>0.000000</td>\n",
       "      <td>0.000000</td>\n",
       "      <td>1.000000</td>\n",
       "      <td>0.000000</td>\n",
       "      <td>0.000000</td>\n",
       "      <td>1.000000</td>\n",
       "      <td>-1.000000</td>\n",
       "      <td>0.000000</td>\n",
       "      <td>0.000000</td>\n",
       "      <td>0.000000</td>\n",
       "    </tr>\n",
       "    <tr>\n",
       "      <th>25%</th>\n",
       "      <td>32.000000</td>\n",
       "      <td>1.000000</td>\n",
       "      <td>1.000000</td>\n",
       "      <td>1.000000</td>\n",
       "      <td>0.000000</td>\n",
       "      <td>111.000000</td>\n",
       "      <td>0.000000</td>\n",
       "      <td>0.000000</td>\n",
       "      <td>0.000000</td>\n",
       "      <td>8.000000</td>\n",
       "      <td>3.000000</td>\n",
       "      <td>158.000000</td>\n",
       "      <td>1.000000</td>\n",
       "      <td>-1.000000</td>\n",
       "      <td>0.000000</td>\n",
       "      <td>3.000000</td>\n",
       "      <td>0.000000</td>\n",
       "    </tr>\n",
       "    <tr>\n",
       "      <th>50%</th>\n",
       "      <td>39.000000</td>\n",
       "      <td>4.000000</td>\n",
       "      <td>1.000000</td>\n",
       "      <td>1.000000</td>\n",
       "      <td>0.000000</td>\n",
       "      <td>532.000000</td>\n",
       "      <td>0.000000</td>\n",
       "      <td>0.000000</td>\n",
       "      <td>0.000000</td>\n",
       "      <td>15.000000</td>\n",
       "      <td>6.000000</td>\n",
       "      <td>280.000000</td>\n",
       "      <td>2.000000</td>\n",
       "      <td>-1.000000</td>\n",
       "      <td>0.000000</td>\n",
       "      <td>3.000000</td>\n",
       "      <td>0.000000</td>\n",
       "    </tr>\n",
       "    <tr>\n",
       "      <th>75%</th>\n",
       "      <td>49.000000</td>\n",
       "      <td>7.000000</td>\n",
       "      <td>2.000000</td>\n",
       "      <td>2.000000</td>\n",
       "      <td>0.000000</td>\n",
       "      <td>1592.500000</td>\n",
       "      <td>1.000000</td>\n",
       "      <td>0.000000</td>\n",
       "      <td>1.000000</td>\n",
       "      <td>21.000000</td>\n",
       "      <td>8.000000</td>\n",
       "      <td>543.000000</td>\n",
       "      <td>3.000000</td>\n",
       "      <td>-1.000000</td>\n",
       "      <td>0.000000</td>\n",
       "      <td>3.000000</td>\n",
       "      <td>1.000000</td>\n",
       "    </tr>\n",
       "    <tr>\n",
       "      <th>max</th>\n",
       "      <td>95.000000</td>\n",
       "      <td>11.000000</td>\n",
       "      <td>2.000000</td>\n",
       "      <td>3.000000</td>\n",
       "      <td>1.000000</td>\n",
       "      <td>81204.000000</td>\n",
       "      <td>1.000000</td>\n",
       "      <td>1.000000</td>\n",
       "      <td>2.000000</td>\n",
       "      <td>31.000000</td>\n",
       "      <td>11.000000</td>\n",
       "      <td>3881.000000</td>\n",
       "      <td>32.000000</td>\n",
       "      <td>854.000000</td>\n",
       "      <td>58.000000</td>\n",
       "      <td>3.000000</td>\n",
       "      <td>1.000000</td>\n",
       "    </tr>\n",
       "  </tbody>\n",
       "</table>\n",
       "</div>"
      ],
      "text/plain": [
       "               age          job      marital    education      default  \\\n",
       "count  9119.000000  9119.000000  9119.000000  9119.000000  9119.000000   \n",
       "mean     41.277333     4.541836     1.203092     1.291808     0.014146   \n",
       "std      12.126678     3.248463     0.631993     0.743953     0.118100   \n",
       "min      18.000000     0.000000     0.000000     0.000000     0.000000   \n",
       "25%      32.000000     1.000000     1.000000     1.000000     0.000000   \n",
       "50%      39.000000     4.000000     1.000000     1.000000     0.000000   \n",
       "75%      49.000000     7.000000     2.000000     2.000000     0.000000   \n",
       "max      95.000000    11.000000     2.000000     3.000000     1.000000   \n",
       "\n",
       "            balance      housing         loan      contact          day  \\\n",
       "count   9119.000000  9119.000000  9119.000000  9119.000000  9119.000000   \n",
       "mean    1326.213949     0.447746     0.126988     0.496655    15.456739   \n",
       "std     2792.797671     0.497289     0.332977     0.825247     8.398084   \n",
       "min    -3058.000000     0.000000     0.000000     0.000000     1.000000   \n",
       "25%      111.000000     0.000000     0.000000     0.000000     8.000000   \n",
       "50%      532.000000     0.000000     0.000000     0.000000    15.000000   \n",
       "75%     1592.500000     1.000000     0.000000     1.000000    21.000000   \n",
       "max    81204.000000     1.000000     1.000000     2.000000    31.000000   \n",
       "\n",
       "             month     duration     campaign        pdays     previous  \\\n",
       "count  9119.000000  9119.000000  9119.000000  9119.000000  9119.000000   \n",
       "mean      5.454874   402.575611     2.169426    40.665972     0.697774   \n",
       "std       3.204467   355.669307     1.707474    97.031561     2.029695   \n",
       "min       0.000000     0.000000     1.000000    -1.000000     0.000000   \n",
       "25%       3.000000   158.000000     1.000000    -1.000000     0.000000   \n",
       "50%       6.000000   280.000000     2.000000    -1.000000     0.000000   \n",
       "75%       8.000000   543.000000     3.000000    -1.000000     0.000000   \n",
       "max      11.000000  3881.000000    32.000000   854.000000    58.000000   \n",
       "\n",
       "          poutcome            y  \n",
       "count  9119.000000  9119.000000  \n",
       "mean      2.591183     0.420002  \n",
       "std       0.875812     0.493586  \n",
       "min       0.000000     0.000000  \n",
       "25%       3.000000     0.000000  \n",
       "50%       3.000000     0.000000  \n",
       "75%       3.000000     1.000000  \n",
       "max       3.000000     1.000000  "
      ]
     },
     "execution_count": 60,
     "metadata": {},
     "output_type": "execute_result"
    }
   ],
   "source": [
    "yenilenmis.describe()"
   ]
  },
  {
   "cell_type": "markdown",
   "metadata": {},
   "source": [
    "# Korelasyon Analizi\n",
    "## Özniteliklerimiz ile hedef değişkenimiz arasındaki ilişkiye bakıp aralarındaki ilişki 10'dan düşük olan özniteliklerimizi verisetinden atacağız.\n",
    "- 0.01 – 0.29 düşük düzeyde ilişki\n",
    "\n",
    "- •0.30 – 0.70 orta düzeyde ilişki\n",
    "\n",
    "- •0.71 – 0.99 yüksek düzeyde ilişki\n",
    "- Burada kullanmış olduğumuz 10 sayısını kendimiz belirledik. Hedef değişken ile korelasyona girecek öznitelik arasındaki ilişkinin çok zayıf olmasınıı istemedik"
   ]
  },
  {
   "cell_type": "code",
   "execution_count": 61,
   "metadata": {},
   "outputs": [],
   "source": [
    "x = yenilenmis.drop(\"y\",axis=1)\n",
    "y = yenilenmis[\"y\"]"
   ]
  },
  {
   "cell_type": "code",
   "execution_count": 62,
   "metadata": {},
   "outputs": [
    {
     "data": {
      "text/plain": [
       "Index(['age', 'job', 'marital', 'education', 'default', 'balance', 'housing',\n",
       "       'loan', 'contact', 'day', 'month', 'duration', 'campaign', 'pdays',\n",
       "       'previous', 'poutcome', 'y'],\n",
       "      dtype='object')"
      ]
     },
     "execution_count": 62,
     "metadata": {},
     "output_type": "execute_result"
    }
   ],
   "source": [
    "yenilenmis.columns"
   ]
  },
  {
   "cell_type": "code",
   "execution_count": 63,
   "metadata": {},
   "outputs": [
    {
     "name": "stdout",
     "output_type": "stream",
     "text": [
      "------Age ile hedef sütunumuz arasındaki korelasyon -3.806020056515443'dır.\n",
      "-----Job ile hedef sütunumuz arasındaki korelasyon -5.842987998187272'dır.\n",
      "---->marital ile hedef sütunumuz arasındaki korelasyon -7.588661067925069'dır.\n",
      "education ile hedef sütunumuz arasındaki korelasyon -10.920166441189897'dır.\n",
      "-----default ile hedef sütunumuz arasındaki korelasyon 4.293353020835273'dır.\n",
      "balance ile hedef sütunumuz arasındaki korelasyon -20.116325855439662'dır.\n",
      "housing ile hedef sütunumuz arasındaki korelasyon 19.35297821939777'dır.\n",
      "loan ile hedef sütunumuz arasındaki korelasyon 12.521100445541888'dır.\n",
      "contact ile hedef sütunumuz arasındaki korelasyon 31.685482248961772'dır.\n",
      "------day ile hedef sütunumuz arasındaki korelasyon 4.176904083320665'dır.\n",
      "------month ile hedef sütunumuz arasındaki korelasyon 4.915010709694177'dır.\n",
      "pdays ile hedef sütunumuz arasındaki korelasyon -33.9570283807935'dır.\n",
      "previous ile hedef sütunumuz arasındaki korelasyon -27.362485430667704'dır.\n",
      "poutcome ile hedef sütunumuz arasındaki korelasyon 32.56967066972846'dır.\n",
      "duration ile hedef sütunumuz arasındaki korelasyon -44.51368523045874'dır.\n",
      "------campaign ile hedef sütunumuz arasındaki korelasyon 1.9532345645493412'dır.\n"
     ]
    }
   ],
   "source": [
    "x=yenilenmis['age']\n",
    "y=yenilenmis['y']\n",
    "print(\"------Age ile hedef sütunumuz arasındaki korelasyon {}'dır.\".format(x.corr(y)*100))\n",
    "\n",
    "x=yenilenmis['job']\n",
    "y=yenilenmis['y']\n",
    "print(\"-----Job ile hedef sütunumuz arasındaki korelasyon {}'dır.\".format(x.corr(y)*100))\n",
    "\n",
    "x=yenilenmis['marital']\n",
    "y=yenilenmis['y']\n",
    "print(\"---->marital ile hedef sütunumuz arasındaki korelasyon {}'dır.\".format(x.corr(y)*100))\n",
    "\n",
    "x=yenilenmis['education']\n",
    "y=yenilenmis['y']\n",
    "print(\"education ile hedef sütunumuz arasındaki korelasyon {}'dır.\".format(x.corr(y)*100))\n",
    "\n",
    "x=yenilenmis['default']\n",
    "y=yenilenmis['y']\n",
    "print(\"-----default ile hedef sütunumuz arasındaki korelasyon {}'dır.\".format(x.corr(y)*100))\n",
    "\n",
    "x=yenilenmis['balance']\n",
    "y=yenilenmis['y']\n",
    "print(\"balance ile hedef sütunumuz arasındaki korelasyon {}'dır.\".format(x.corr(y)*100))\n",
    "\n",
    "x=yenilenmis['housing']\n",
    "y=yenilenmis['y']\n",
    "print(\"housing ile hedef sütunumuz arasındaki korelasyon {}'dır.\".format(x.corr(y)*100))\n",
    "\n",
    "x=yenilenmis['loan']\n",
    "y=yenilenmis['y']\n",
    "print(\"loan ile hedef sütunumuz arasındaki korelasyon {}'dır.\".format(x.corr(y)*100))\n",
    "\n",
    "x=yenilenmis['contact']\n",
    "y=yenilenmis['y']\n",
    "print(\"contact ile hedef sütunumuz arasındaki korelasyon {}'dır.\".format(x.corr(y)*100))\n",
    "\n",
    "x=yenilenmis['day']\n",
    "y=yenilenmis['y']\n",
    "print(\"------day ile hedef sütunumuz arasındaki korelasyon {}'dır.\".format(x.corr(y)*100))\n",
    "\n",
    "x=yenilenmis['month']\n",
    "y=yenilenmis['y']\n",
    "print(\"------month ile hedef sütunumuz arasındaki korelasyon {}'dır.\".format(x.corr(y)*100))\n",
    "\n",
    "x=yenilenmis['pdays']\n",
    "y=yenilenmis['y']\n",
    "print(\"pdays ile hedef sütunumuz arasındaki korelasyon {}'dır.\".format(x.corr(y)*100))\n",
    "\n",
    "\n",
    "x=yenilenmis['previous']\n",
    "y=yenilenmis['y']\n",
    "print(\"previous ile hedef sütunumuz arasındaki korelasyon {}'dır.\".format(x.corr(y)*100))\n",
    "\n",
    "x=yenilenmis['poutcome']\n",
    "y=yenilenmis['y']\n",
    "print(\"poutcome ile hedef sütunumuz arasındaki korelasyon {}'dır.\".format(x.corr(y)*100))\n",
    "\n",
    "\n",
    "x=yenilenmis['duration']\n",
    "y=yenilenmis['y']\n",
    "print(\"duration ile hedef sütunumuz arasındaki korelasyon {}'dır.\".format(x.corr(y)*100))\n",
    "\n",
    "x=yenilenmis['campaign']\n",
    "y=yenilenmis['y']\n",
    "print(\"------campaign ile hedef sütunumuz arasındaki korelasyon {}'dır.\".format(x.corr(y)*100))\n"
   ]
  },
  {
   "cell_type": "code",
   "execution_count": 64,
   "metadata": {},
   "outputs": [
    {
     "data": {
      "text/html": [
       "<div>\n",
       "<style scoped>\n",
       "    .dataframe tbody tr th:only-of-type {\n",
       "        vertical-align: middle;\n",
       "    }\n",
       "\n",
       "    .dataframe tbody tr th {\n",
       "        vertical-align: top;\n",
       "    }\n",
       "\n",
       "    .dataframe thead th {\n",
       "        text-align: right;\n",
       "    }\n",
       "</style>\n",
       "<table border=\"1\" class=\"dataframe\">\n",
       "  <thead>\n",
       "    <tr style=\"text-align: right;\">\n",
       "      <th></th>\n",
       "      <th>education</th>\n",
       "      <th>balance</th>\n",
       "      <th>housing</th>\n",
       "      <th>loan</th>\n",
       "      <th>contact</th>\n",
       "      <th>duration</th>\n",
       "      <th>pdays</th>\n",
       "      <th>previous</th>\n",
       "      <th>poutcome</th>\n",
       "      <th>y</th>\n",
       "    </tr>\n",
       "  </thead>\n",
       "  <tbody>\n",
       "    <tr>\n",
       "      <th>0</th>\n",
       "      <td>1</td>\n",
       "      <td>2343</td>\n",
       "      <td>1</td>\n",
       "      <td>0</td>\n",
       "      <td>2</td>\n",
       "      <td>1042</td>\n",
       "      <td>-1</td>\n",
       "      <td>0</td>\n",
       "      <td>3</td>\n",
       "      <td>0</td>\n",
       "    </tr>\n",
       "    <tr>\n",
       "      <th>1</th>\n",
       "      <td>1</td>\n",
       "      <td>45</td>\n",
       "      <td>0</td>\n",
       "      <td>0</td>\n",
       "      <td>2</td>\n",
       "      <td>1467</td>\n",
       "      <td>-1</td>\n",
       "      <td>0</td>\n",
       "      <td>3</td>\n",
       "      <td>0</td>\n",
       "    </tr>\n",
       "    <tr>\n",
       "      <th>2</th>\n",
       "      <td>1</td>\n",
       "      <td>1270</td>\n",
       "      <td>1</td>\n",
       "      <td>0</td>\n",
       "      <td>2</td>\n",
       "      <td>1389</td>\n",
       "      <td>-1</td>\n",
       "      <td>0</td>\n",
       "      <td>3</td>\n",
       "      <td>0</td>\n",
       "    </tr>\n",
       "    <tr>\n",
       "      <th>3</th>\n",
       "      <td>1</td>\n",
       "      <td>2476</td>\n",
       "      <td>1</td>\n",
       "      <td>0</td>\n",
       "      <td>2</td>\n",
       "      <td>579</td>\n",
       "      <td>-1</td>\n",
       "      <td>0</td>\n",
       "      <td>3</td>\n",
       "      <td>0</td>\n",
       "    </tr>\n",
       "    <tr>\n",
       "      <th>4</th>\n",
       "      <td>2</td>\n",
       "      <td>184</td>\n",
       "      <td>0</td>\n",
       "      <td>0</td>\n",
       "      <td>2</td>\n",
       "      <td>673</td>\n",
       "      <td>-1</td>\n",
       "      <td>0</td>\n",
       "      <td>3</td>\n",
       "      <td>0</td>\n",
       "    </tr>\n",
       "    <tr>\n",
       "      <th>...</th>\n",
       "      <td>...</td>\n",
       "      <td>...</td>\n",
       "      <td>...</td>\n",
       "      <td>...</td>\n",
       "      <td>...</td>\n",
       "      <td>...</td>\n",
       "      <td>...</td>\n",
       "      <td>...</td>\n",
       "      <td>...</td>\n",
       "      <td>...</td>\n",
       "    </tr>\n",
       "    <tr>\n",
       "      <th>10572</th>\n",
       "      <td>1</td>\n",
       "      <td>0</td>\n",
       "      <td>1</td>\n",
       "      <td>0</td>\n",
       "      <td>1</td>\n",
       "      <td>40</td>\n",
       "      <td>-1</td>\n",
       "      <td>0</td>\n",
       "      <td>3</td>\n",
       "      <td>1</td>\n",
       "    </tr>\n",
       "    <tr>\n",
       "      <th>10573</th>\n",
       "      <td>1</td>\n",
       "      <td>-401</td>\n",
       "      <td>1</td>\n",
       "      <td>0</td>\n",
       "      <td>2</td>\n",
       "      <td>78</td>\n",
       "      <td>-1</td>\n",
       "      <td>0</td>\n",
       "      <td>3</td>\n",
       "      <td>1</td>\n",
       "    </tr>\n",
       "    <tr>\n",
       "      <th>10574</th>\n",
       "      <td>1</td>\n",
       "      <td>0</td>\n",
       "      <td>0</td>\n",
       "      <td>0</td>\n",
       "      <td>1</td>\n",
       "      <td>215</td>\n",
       "      <td>-1</td>\n",
       "      <td>0</td>\n",
       "      <td>3</td>\n",
       "      <td>1</td>\n",
       "    </tr>\n",
       "    <tr>\n",
       "      <th>10576</th>\n",
       "      <td>1</td>\n",
       "      <td>-868</td>\n",
       "      <td>1</td>\n",
       "      <td>1</td>\n",
       "      <td>0</td>\n",
       "      <td>186</td>\n",
       "      <td>-1</td>\n",
       "      <td>0</td>\n",
       "      <td>3</td>\n",
       "      <td>1</td>\n",
       "    </tr>\n",
       "    <tr>\n",
       "      <th>10577</th>\n",
       "      <td>1</td>\n",
       "      <td>2557</td>\n",
       "      <td>1</td>\n",
       "      <td>0</td>\n",
       "      <td>0</td>\n",
       "      <td>186</td>\n",
       "      <td>-1</td>\n",
       "      <td>0</td>\n",
       "      <td>3</td>\n",
       "      <td>1</td>\n",
       "    </tr>\n",
       "  </tbody>\n",
       "</table>\n",
       "<p>9119 rows × 10 columns</p>\n",
       "</div>"
      ],
      "text/plain": [
       "       education  balance  housing  loan  contact  duration  pdays  previous  \\\n",
       "0              1     2343        1     0        2      1042     -1         0   \n",
       "1              1       45        0     0        2      1467     -1         0   \n",
       "2              1     1270        1     0        2      1389     -1         0   \n",
       "3              1     2476        1     0        2       579     -1         0   \n",
       "4              2      184        0     0        2       673     -1         0   \n",
       "...          ...      ...      ...   ...      ...       ...    ...       ...   \n",
       "10572          1        0        1     0        1        40     -1         0   \n",
       "10573          1     -401        1     0        2        78     -1         0   \n",
       "10574          1        0        0     0        1       215     -1         0   \n",
       "10576          1     -868        1     1        0       186     -1         0   \n",
       "10577          1     2557        1     0        0       186     -1         0   \n",
       "\n",
       "       poutcome  y  \n",
       "0             3  0  \n",
       "1             3  0  \n",
       "2             3  0  \n",
       "3             3  0  \n",
       "4             3  0  \n",
       "...         ... ..  \n",
       "10572         3  1  \n",
       "10573         3  1  \n",
       "10574         3  1  \n",
       "10576         3  1  \n",
       "10577         3  1  \n",
       "\n",
       "[9119 rows x 10 columns]"
      ]
     },
     "execution_count": 64,
     "metadata": {},
     "output_type": "execute_result"
    }
   ],
   "source": [
    "yenilenmis.drop(\"age\", axis=1, inplace=True)\n",
    "yenilenmis.drop(\"job\", axis=1, inplace=True)\n",
    "yenilenmis.drop(\"marital\", axis=1, inplace=True)\n",
    "yenilenmis.drop(\"default\", axis=1, inplace=True)\n",
    "yenilenmis.drop(\"day\", axis=1, inplace=True)\n",
    "yenilenmis.drop(\"month\", axis=1, inplace=True)\n",
    "yenilenmis.drop(\"campaign\", axis=1, inplace=True)\n",
    "yenilenmis"
   ]
  },
  {
   "cell_type": "code",
   "execution_count": 65,
   "metadata": {
    "scrolled": false
   },
   "outputs": [
    {
     "data": {
      "text/html": [
       "<div>\n",
       "<style scoped>\n",
       "    .dataframe tbody tr th:only-of-type {\n",
       "        vertical-align: middle;\n",
       "    }\n",
       "\n",
       "    .dataframe tbody tr th {\n",
       "        vertical-align: top;\n",
       "    }\n",
       "\n",
       "    .dataframe thead th {\n",
       "        text-align: right;\n",
       "    }\n",
       "</style>\n",
       "<table border=\"1\" class=\"dataframe\">\n",
       "  <thead>\n",
       "    <tr style=\"text-align: right;\">\n",
       "      <th></th>\n",
       "      <th>education</th>\n",
       "      <th>balance</th>\n",
       "      <th>housing</th>\n",
       "      <th>loan</th>\n",
       "      <th>contact</th>\n",
       "      <th>duration</th>\n",
       "      <th>pdays</th>\n",
       "      <th>previous</th>\n",
       "      <th>poutcome</th>\n",
       "      <th>y</th>\n",
       "    </tr>\n",
       "  </thead>\n",
       "  <tbody>\n",
       "    <tr>\n",
       "      <th>0</th>\n",
       "      <td>1</td>\n",
       "      <td>2343</td>\n",
       "      <td>1</td>\n",
       "      <td>0</td>\n",
       "      <td>2</td>\n",
       "      <td>1042</td>\n",
       "      <td>-1</td>\n",
       "      <td>0</td>\n",
       "      <td>3</td>\n",
       "      <td>0</td>\n",
       "    </tr>\n",
       "    <tr>\n",
       "      <th>1</th>\n",
       "      <td>1</td>\n",
       "      <td>45</td>\n",
       "      <td>0</td>\n",
       "      <td>0</td>\n",
       "      <td>2</td>\n",
       "      <td>1467</td>\n",
       "      <td>-1</td>\n",
       "      <td>0</td>\n",
       "      <td>3</td>\n",
       "      <td>0</td>\n",
       "    </tr>\n",
       "    <tr>\n",
       "      <th>2</th>\n",
       "      <td>1</td>\n",
       "      <td>1270</td>\n",
       "      <td>1</td>\n",
       "      <td>0</td>\n",
       "      <td>2</td>\n",
       "      <td>1389</td>\n",
       "      <td>-1</td>\n",
       "      <td>0</td>\n",
       "      <td>3</td>\n",
       "      <td>0</td>\n",
       "    </tr>\n",
       "    <tr>\n",
       "      <th>3</th>\n",
       "      <td>1</td>\n",
       "      <td>2476</td>\n",
       "      <td>1</td>\n",
       "      <td>0</td>\n",
       "      <td>2</td>\n",
       "      <td>579</td>\n",
       "      <td>-1</td>\n",
       "      <td>0</td>\n",
       "      <td>3</td>\n",
       "      <td>0</td>\n",
       "    </tr>\n",
       "    <tr>\n",
       "      <th>4</th>\n",
       "      <td>2</td>\n",
       "      <td>184</td>\n",
       "      <td>0</td>\n",
       "      <td>0</td>\n",
       "      <td>2</td>\n",
       "      <td>673</td>\n",
       "      <td>-1</td>\n",
       "      <td>0</td>\n",
       "      <td>3</td>\n",
       "      <td>0</td>\n",
       "    </tr>\n",
       "  </tbody>\n",
       "</table>\n",
       "</div>"
      ],
      "text/plain": [
       "   education  balance  housing  loan  contact  duration  pdays  previous  \\\n",
       "0          1     2343        1     0        2      1042     -1         0   \n",
       "1          1       45        0     0        2      1467     -1         0   \n",
       "2          1     1270        1     0        2      1389     -1         0   \n",
       "3          1     2476        1     0        2       579     -1         0   \n",
       "4          2      184        0     0        2       673     -1         0   \n",
       "\n",
       "   poutcome  y  \n",
       "0         3  0  \n",
       "1         3  0  \n",
       "2         3  0  \n",
       "3         3  0  \n",
       "4         3  0  "
      ]
     },
     "execution_count": 65,
     "metadata": {},
     "output_type": "execute_result"
    }
   ],
   "source": [
    "yenilenmis.head()"
   ]
  },
  {
   "cell_type": "code",
   "execution_count": 66,
   "metadata": {},
   "outputs": [
    {
     "data": {
      "text/html": [
       "<div>\n",
       "<style scoped>\n",
       "    .dataframe tbody tr th:only-of-type {\n",
       "        vertical-align: middle;\n",
       "    }\n",
       "\n",
       "    .dataframe tbody tr th {\n",
       "        vertical-align: top;\n",
       "    }\n",
       "\n",
       "    .dataframe thead th {\n",
       "        text-align: right;\n",
       "    }\n",
       "</style>\n",
       "<table border=\"1\" class=\"dataframe\">\n",
       "  <thead>\n",
       "    <tr style=\"text-align: right;\">\n",
       "      <th></th>\n",
       "      <th>education</th>\n",
       "      <th>balance</th>\n",
       "      <th>housing</th>\n",
       "      <th>loan</th>\n",
       "      <th>contact</th>\n",
       "      <th>duration</th>\n",
       "      <th>pdays</th>\n",
       "      <th>previous</th>\n",
       "      <th>poutcome</th>\n",
       "      <th>y</th>\n",
       "    </tr>\n",
       "  </thead>\n",
       "  <tbody>\n",
       "    <tr>\n",
       "      <th>education</th>\n",
       "      <td>1.000000</td>\n",
       "      <td>0.070131</td>\n",
       "      <td>-0.110709</td>\n",
       "      <td>-0.069914</td>\n",
       "      <td>-0.125510</td>\n",
       "      <td>-0.027016</td>\n",
       "      <td>0.055513</td>\n",
       "      <td>0.043595</td>\n",
       "      <td>-0.071224</td>\n",
       "      <td>-0.109202</td>\n",
       "    </tr>\n",
       "    <tr>\n",
       "      <th>balance</th>\n",
       "      <td>0.070131</td>\n",
       "      <td>1.000000</td>\n",
       "      <td>-0.100284</td>\n",
       "      <td>-0.095355</td>\n",
       "      <td>-0.077074</td>\n",
       "      <td>0.060010</td>\n",
       "      <td>0.079079</td>\n",
       "      <td>0.074829</td>\n",
       "      <td>-0.090540</td>\n",
       "      <td>-0.201163</td>\n",
       "    </tr>\n",
       "    <tr>\n",
       "      <th>housing</th>\n",
       "      <td>-0.110709</td>\n",
       "      <td>-0.100284</td>\n",
       "      <td>1.000000</td>\n",
       "      <td>0.093727</td>\n",
       "      <td>0.258734</td>\n",
       "      <td>0.069440</td>\n",
       "      <td>-0.027530</td>\n",
       "      <td>-0.051288</td>\n",
       "      <td>0.055449</td>\n",
       "      <td>0.193530</td>\n",
       "    </tr>\n",
       "    <tr>\n",
       "      <th>loan</th>\n",
       "      <td>-0.069914</td>\n",
       "      <td>-0.095355</td>\n",
       "      <td>0.093727</td>\n",
       "      <td>1.000000</td>\n",
       "      <td>0.038265</td>\n",
       "      <td>0.011251</td>\n",
       "      <td>-0.061614</td>\n",
       "      <td>-0.057612</td>\n",
       "      <td>0.062207</td>\n",
       "      <td>0.125211</td>\n",
       "    </tr>\n",
       "    <tr>\n",
       "      <th>contact</th>\n",
       "      <td>-0.125510</td>\n",
       "      <td>-0.077074</td>\n",
       "      <td>0.258734</td>\n",
       "      <td>0.038265</td>\n",
       "      <td>1.000000</td>\n",
       "      <td>-0.027870</td>\n",
       "      <td>-0.210444</td>\n",
       "      <td>-0.174051</td>\n",
       "      <td>0.233763</td>\n",
       "      <td>0.316855</td>\n",
       "    </tr>\n",
       "    <tr>\n",
       "      <th>duration</th>\n",
       "      <td>-0.027016</td>\n",
       "      <td>0.060010</td>\n",
       "      <td>0.069440</td>\n",
       "      <td>0.011251</td>\n",
       "      <td>-0.027870</td>\n",
       "      <td>1.000000</td>\n",
       "      <td>0.022761</td>\n",
       "      <td>0.004439</td>\n",
       "      <td>-0.011763</td>\n",
       "      <td>-0.445137</td>\n",
       "    </tr>\n",
       "    <tr>\n",
       "      <th>pdays</th>\n",
       "      <td>0.055513</td>\n",
       "      <td>0.079079</td>\n",
       "      <td>-0.027530</td>\n",
       "      <td>-0.061614</td>\n",
       "      <td>-0.210444</td>\n",
       "      <td>0.022761</td>\n",
       "      <td>1.000000</td>\n",
       "      <td>0.510265</td>\n",
       "      <td>-0.767770</td>\n",
       "      <td>-0.339570</td>\n",
       "    </tr>\n",
       "    <tr>\n",
       "      <th>previous</th>\n",
       "      <td>0.043595</td>\n",
       "      <td>0.074829</td>\n",
       "      <td>-0.051288</td>\n",
       "      <td>-0.057612</td>\n",
       "      <td>-0.174051</td>\n",
       "      <td>0.004439</td>\n",
       "      <td>0.510265</td>\n",
       "      <td>1.000000</td>\n",
       "      <td>-0.559196</td>\n",
       "      <td>-0.273625</td>\n",
       "    </tr>\n",
       "    <tr>\n",
       "      <th>poutcome</th>\n",
       "      <td>-0.071224</td>\n",
       "      <td>-0.090540</td>\n",
       "      <td>0.055449</td>\n",
       "      <td>0.062207</td>\n",
       "      <td>0.233763</td>\n",
       "      <td>-0.011763</td>\n",
       "      <td>-0.767770</td>\n",
       "      <td>-0.559196</td>\n",
       "      <td>1.000000</td>\n",
       "      <td>0.325697</td>\n",
       "    </tr>\n",
       "    <tr>\n",
       "      <th>y</th>\n",
       "      <td>-0.109202</td>\n",
       "      <td>-0.201163</td>\n",
       "      <td>0.193530</td>\n",
       "      <td>0.125211</td>\n",
       "      <td>0.316855</td>\n",
       "      <td>-0.445137</td>\n",
       "      <td>-0.339570</td>\n",
       "      <td>-0.273625</td>\n",
       "      <td>0.325697</td>\n",
       "      <td>1.000000</td>\n",
       "    </tr>\n",
       "  </tbody>\n",
       "</table>\n",
       "</div>"
      ],
      "text/plain": [
       "           education   balance   housing      loan   contact  duration  \\\n",
       "education   1.000000  0.070131 -0.110709 -0.069914 -0.125510 -0.027016   \n",
       "balance     0.070131  1.000000 -0.100284 -0.095355 -0.077074  0.060010   \n",
       "housing    -0.110709 -0.100284  1.000000  0.093727  0.258734  0.069440   \n",
       "loan       -0.069914 -0.095355  0.093727  1.000000  0.038265  0.011251   \n",
       "contact    -0.125510 -0.077074  0.258734  0.038265  1.000000 -0.027870   \n",
       "duration   -0.027016  0.060010  0.069440  0.011251 -0.027870  1.000000   \n",
       "pdays       0.055513  0.079079 -0.027530 -0.061614 -0.210444  0.022761   \n",
       "previous    0.043595  0.074829 -0.051288 -0.057612 -0.174051  0.004439   \n",
       "poutcome   -0.071224 -0.090540  0.055449  0.062207  0.233763 -0.011763   \n",
       "y          -0.109202 -0.201163  0.193530  0.125211  0.316855 -0.445137   \n",
       "\n",
       "              pdays  previous  poutcome         y  \n",
       "education  0.055513  0.043595 -0.071224 -0.109202  \n",
       "balance    0.079079  0.074829 -0.090540 -0.201163  \n",
       "housing   -0.027530 -0.051288  0.055449  0.193530  \n",
       "loan      -0.061614 -0.057612  0.062207  0.125211  \n",
       "contact   -0.210444 -0.174051  0.233763  0.316855  \n",
       "duration   0.022761  0.004439 -0.011763 -0.445137  \n",
       "pdays      1.000000  0.510265 -0.767770 -0.339570  \n",
       "previous   0.510265  1.000000 -0.559196 -0.273625  \n",
       "poutcome  -0.767770 -0.559196  1.000000  0.325697  \n",
       "y         -0.339570 -0.273625  0.325697  1.000000  "
      ]
     },
     "execution_count": 66,
     "metadata": {},
     "output_type": "execute_result"
    }
   ],
   "source": [
    "corr = yenilenmis.corr()\n",
    "corr"
   ]
  },
  {
   "cell_type": "markdown",
   "metadata": {},
   "source": [
    "# Korelasyonu gösterirken üst üçgeni göstermemize gerek olmadığı için böyle bir maskeleme işlemi yapıyoruz."
   ]
  },
  {
   "cell_type": "code",
   "execution_count": 67,
   "metadata": {},
   "outputs": [
    {
     "data": {
      "text/plain": [
       "array([[1., 1., 1., 1., 1., 1., 1., 1., 1., 1.],\n",
       "       [0., 1., 1., 1., 1., 1., 1., 1., 1., 1.],\n",
       "       [0., 0., 1., 1., 1., 1., 1., 1., 1., 1.],\n",
       "       [0., 0., 0., 1., 1., 1., 1., 1., 1., 1.],\n",
       "       [0., 0., 0., 0., 1., 1., 1., 1., 1., 1.],\n",
       "       [0., 0., 0., 0., 0., 1., 1., 1., 1., 1.],\n",
       "       [0., 0., 0., 0., 0., 0., 1., 1., 1., 1.],\n",
       "       [0., 0., 0., 0., 0., 0., 0., 1., 1., 1.],\n",
       "       [0., 0., 0., 0., 0., 0., 0., 0., 1., 1.],\n",
       "       [0., 0., 0., 0., 0., 0., 0., 0., 0., 1.]])"
      ]
     },
     "execution_count": 67,
     "metadata": {},
     "output_type": "execute_result"
    }
   ],
   "source": [
    "mask = np.zeros_like(yenilenmis.corr())\n",
    "triangle_indices = np.triu_indices_from(mask)\n",
    "mask[triangle_indices]=True\n",
    "mask"
   ]
  },
  {
   "cell_type": "code",
   "execution_count": 68,
   "metadata": {},
   "outputs": [
    {
     "data": {
      "text/plain": [
       "<AxesSubplot:>"
      ]
     },
     "execution_count": 68,
     "metadata": {},
     "output_type": "execute_result"
    },
    {
     "data": {
      "image/png": "[encoded data removed]",
      "text/plain": [
       "<Figure size 1152x720 with 2 Axes>"
      ]
     },
     "metadata": {
      "needs_background": "light"
     },
     "output_type": "display_data"
    }
   ],
   "source": [
    "plt.figure(figsize=(16,10))\n",
    "sns.heatmap(corr, xticklabels=yenilenmis.columns, yticklabels=yenilenmis.columns , annot=True , mask=mask )"
   ]
  },
  {
   "cell_type": "markdown",
   "metadata": {},
   "source": [
    "# \"pdays\" ve \"poutcome\" özniteliklerin korelasyon çıktılarının değeri çok yüksek olduğu için bu sonuç sağlıksız olacağı için bu iki özniteliği çıkartıyoruz."
   ]
  },
  {
   "cell_type": "code",
   "execution_count": 69,
   "metadata": {},
   "outputs": [
    {
     "data": {
      "text/html": [
       "<div>\n",
       "<style scoped>\n",
       "    .dataframe tbody tr th:only-of-type {\n",
       "        vertical-align: middle;\n",
       "    }\n",
       "\n",
       "    .dataframe tbody tr th {\n",
       "        vertical-align: top;\n",
       "    }\n",
       "\n",
       "    .dataframe thead th {\n",
       "        text-align: right;\n",
       "    }\n",
       "</style>\n",
       "<table border=\"1\" class=\"dataframe\">\n",
       "  <thead>\n",
       "    <tr style=\"text-align: right;\">\n",
       "      <th></th>\n",
       "      <th>education</th>\n",
       "      <th>balance</th>\n",
       "      <th>housing</th>\n",
       "      <th>loan</th>\n",
       "      <th>contact</th>\n",
       "      <th>duration</th>\n",
       "      <th>previous</th>\n",
       "      <th>y</th>\n",
       "    </tr>\n",
       "  </thead>\n",
       "  <tbody>\n",
       "    <tr>\n",
       "      <th>0</th>\n",
       "      <td>1</td>\n",
       "      <td>2343</td>\n",
       "      <td>1</td>\n",
       "      <td>0</td>\n",
       "      <td>2</td>\n",
       "      <td>1042</td>\n",
       "      <td>0</td>\n",
       "      <td>0</td>\n",
       "    </tr>\n",
       "    <tr>\n",
       "      <th>1</th>\n",
       "      <td>1</td>\n",
       "      <td>45</td>\n",
       "      <td>0</td>\n",
       "      <td>0</td>\n",
       "      <td>2</td>\n",
       "      <td>1467</td>\n",
       "      <td>0</td>\n",
       "      <td>0</td>\n",
       "    </tr>\n",
       "    <tr>\n",
       "      <th>2</th>\n",
       "      <td>1</td>\n",
       "      <td>1270</td>\n",
       "      <td>1</td>\n",
       "      <td>0</td>\n",
       "      <td>2</td>\n",
       "      <td>1389</td>\n",
       "      <td>0</td>\n",
       "      <td>0</td>\n",
       "    </tr>\n",
       "    <tr>\n",
       "      <th>3</th>\n",
       "      <td>1</td>\n",
       "      <td>2476</td>\n",
       "      <td>1</td>\n",
       "      <td>0</td>\n",
       "      <td>2</td>\n",
       "      <td>579</td>\n",
       "      <td>0</td>\n",
       "      <td>0</td>\n",
       "    </tr>\n",
       "    <tr>\n",
       "      <th>4</th>\n",
       "      <td>2</td>\n",
       "      <td>184</td>\n",
       "      <td>0</td>\n",
       "      <td>0</td>\n",
       "      <td>2</td>\n",
       "      <td>673</td>\n",
       "      <td>0</td>\n",
       "      <td>0</td>\n",
       "    </tr>\n",
       "    <tr>\n",
       "      <th>...</th>\n",
       "      <td>...</td>\n",
       "      <td>...</td>\n",
       "      <td>...</td>\n",
       "      <td>...</td>\n",
       "      <td>...</td>\n",
       "      <td>...</td>\n",
       "      <td>...</td>\n",
       "      <td>...</td>\n",
       "    </tr>\n",
       "    <tr>\n",
       "      <th>10572</th>\n",
       "      <td>1</td>\n",
       "      <td>0</td>\n",
       "      <td>1</td>\n",
       "      <td>0</td>\n",
       "      <td>1</td>\n",
       "      <td>40</td>\n",
       "      <td>0</td>\n",
       "      <td>1</td>\n",
       "    </tr>\n",
       "    <tr>\n",
       "      <th>10573</th>\n",
       "      <td>1</td>\n",
       "      <td>-401</td>\n",
       "      <td>1</td>\n",
       "      <td>0</td>\n",
       "      <td>2</td>\n",
       "      <td>78</td>\n",
       "      <td>0</td>\n",
       "      <td>1</td>\n",
       "    </tr>\n",
       "    <tr>\n",
       "      <th>10574</th>\n",
       "      <td>1</td>\n",
       "      <td>0</td>\n",
       "      <td>0</td>\n",
       "      <td>0</td>\n",
       "      <td>1</td>\n",
       "      <td>215</td>\n",
       "      <td>0</td>\n",
       "      <td>1</td>\n",
       "    </tr>\n",
       "    <tr>\n",
       "      <th>10576</th>\n",
       "      <td>1</td>\n",
       "      <td>-868</td>\n",
       "      <td>1</td>\n",
       "      <td>1</td>\n",
       "      <td>0</td>\n",
       "      <td>186</td>\n",
       "      <td>0</td>\n",
       "      <td>1</td>\n",
       "    </tr>\n",
       "    <tr>\n",
       "      <th>10577</th>\n",
       "      <td>1</td>\n",
       "      <td>2557</td>\n",
       "      <td>1</td>\n",
       "      <td>0</td>\n",
       "      <td>0</td>\n",
       "      <td>186</td>\n",
       "      <td>0</td>\n",
       "      <td>1</td>\n",
       "    </tr>\n",
       "  </tbody>\n",
       "</table>\n",
       "<p>9119 rows × 8 columns</p>\n",
       "</div>"
      ],
      "text/plain": [
       "       education  balance  housing  loan  contact  duration  previous  y\n",
       "0              1     2343        1     0        2      1042         0  0\n",
       "1              1       45        0     0        2      1467         0  0\n",
       "2              1     1270        1     0        2      1389         0  0\n",
       "3              1     2476        1     0        2       579         0  0\n",
       "4              2      184        0     0        2       673         0  0\n",
       "...          ...      ...      ...   ...      ...       ...       ... ..\n",
       "10572          1        0        1     0        1        40         0  1\n",
       "10573          1     -401        1     0        2        78         0  1\n",
       "10574          1        0        0     0        1       215         0  1\n",
       "10576          1     -868        1     1        0       186         0  1\n",
       "10577          1     2557        1     0        0       186         0  1\n",
       "\n",
       "[9119 rows x 8 columns]"
      ]
     },
     "execution_count": 69,
     "metadata": {},
     "output_type": "execute_result"
    }
   ],
   "source": [
    "yenilenmis.drop(\"pdays\", axis=1, inplace=True)\n",
    "yenilenmis.drop(\"poutcome\", axis=1, inplace=True)\n",
    "yenilenmis"
   ]
  },
  {
   "cell_type": "markdown",
   "metadata": {},
   "source": [
    "# Veri setimizdeki önişleme adımlarını tamamladık ve verilerimizi testlere sokmak için test ve train diye bölüyoruz."
   ]
  },
  {
   "cell_type": "code",
   "execution_count": 174,
   "metadata": {},
   "outputs": [],
   "source": [
    "x = yenilenmis.drop(\"y\",axis=1)\n",
    "y = yenilenmis[\"y\"]\n",
    "from sklearn.model_selection import train_test_split\n",
    "x_train , x_test , y_train , y_test = train_test_split(x,y,test_size=1/3, random_state= 42)"
   ]
  },
  {
   "cell_type": "code",
   "execution_count": 175,
   "metadata": {},
   "outputs": [
    {
     "data": {
      "text/plain": [
       "StandardScaler()"
      ]
     },
     "execution_count": 175,
     "metadata": {},
     "output_type": "execute_result"
    }
   ],
   "source": [
    "from sklearn.preprocessing import  StandardScaler\n",
    "sts = StandardScaler()\n",
    "scale = sts.fit(x_train)\n",
    "scale"
   ]
  },
  {
   "cell_type": "code",
   "execution_count": 176,
   "metadata": {},
   "outputs": [],
   "source": [
    "x_train = scale.transform(x_train)\n",
    "x_test = scale.transform(x_test)"
   ]
  },
  {
   "cell_type": "markdown",
   "metadata": {},
   "source": [
    "# Lojistik Regresyon işlemleri"
   ]
  },
  {
   "cell_type": "code",
   "execution_count": 177,
   "metadata": {},
   "outputs": [
    {
     "name": "stderr",
     "output_type": "stream",
     "text": [
      "C:\\Users\\borat\\Anaconda\\lib\\site-packages\\sklearn\\linear_model\\_logistic.py:760: RuntimeWarning: divide by zero encountered in double_scalars\n",
      "  args=(X, target, 1. / C, sample_weight),\n",
      "C:\\Users\\borat\\Anaconda\\lib\\site-packages\\sklearn\\linear_model\\_logistic.py:300: RuntimeWarning: invalid value encountered in double_scalars\n",
      "  loss += 0.5 * alpha * squared_norm(w)\n",
      "C:\\Users\\borat\\Anaconda\\lib\\site-packages\\sklearn\\linear_model\\_logistic.py:352: RuntimeWarning: invalid value encountered in multiply\n",
      "  grad[:, :n_features] += alpha * w\n",
      "C:\\Users\\borat\\Anaconda\\lib\\site-packages\\sklearn\\linear_model\\_logistic.py:763: ConvergenceWarning: lbfgs failed to converge (status=2):\n",
      "ABNORMAL_TERMINATION_IN_LNSRCH.\n",
      "\n",
      "Increase the number of iterations (max_iter) or scale the data as shown in:\n",
      "    https://scikit-learn.org/stable/modules/preprocessing.html\n",
      "Please also refer to the documentation for alternative solver options:\n",
      "    https://scikit-learn.org/stable/modules/linear_model.html#logistic-regression\n",
      "  n_iter_i = _check_optimize_result(\n"
     ]
    },
    {
     "name": "stdout",
     "output_type": "stream",
     "text": [
      "lambda: 0.0\n",
      "Özelliklerin katsayıları: [[0. 0. 0. 0. 0. 0. 0.]]\n",
      "Training accuracy: 0.5769040960684323\n",
      "\n",
      "lambda: 0.01\n",
      "Özelliklerin katsayıları: [[-0.05916414 -0.36969495  0.19281147  0.09905472  0.26424176 -0.87362747\n",
      "  -0.8002958 ]]\n",
      "Training accuracy: 0.8330317486428689\n",
      "\n",
      "lambda: 0.02\n",
      "Özelliklerin katsayıları: [[-0.06049579 -0.41117306  0.20574834  0.10173287  0.27174009 -0.95921227\n",
      "  -1.005845  ]]\n",
      "Training accuracy: 0.8348412567856556\n",
      "\n",
      "lambda: 0.03\n",
      "Özelliklerin katsayıları: [[-0.06089375 -0.42932699  0.21153878  0.102821    0.2740264  -0.99612568\n",
      "  -1.12256581]]\n",
      "Training accuracy: 0.8348412567856556\n",
      "\n",
      "lambda: 0.04\n",
      "Özelliklerin katsayıları: [[-0.06106629 -0.43966586  0.21493008  0.10344102  0.27499942 -1.01709701\n",
      "  -1.20024592]]\n",
      "Training accuracy: 0.8340187530843889\n",
      "\n",
      "lambda: 0.05\n",
      "Özelliklerin katsayıları: [[-0.06114169 -0.44638666  0.21717348  0.10384826  0.27546888 -1.03071491\n",
      "  -1.25638773]]\n",
      "Training accuracy: 0.8343477545648955\n",
      "\n",
      "lambda: 0.06\n",
      "Özelliklerin katsayıları: [[-0.06118506 -0.45111903  0.21879779  0.10414533  0.27573682 -1.04031788\n",
      "  -1.29913362]]\n",
      "Training accuracy: 0.8343477545648955\n",
      "\n",
      "lambda: 0.07\n",
      "Özelliklerin katsayıları: [[-0.06120025 -0.45464247  0.22001567  0.10436925  0.27588027 -1.04746755\n",
      "  -1.33289391]]\n",
      "Training accuracy: 0.8351702582661622\n",
      "\n",
      "lambda: 0.08\n",
      "Özelliklerin katsayıları: [[-0.0612132  -0.45736771  0.2209714   0.10454812  0.2759681  -1.05300432\n",
      "  -1.36029099]]\n",
      "Training accuracy: 0.8348412567856556\n",
      "\n",
      "lambda: 0.09\n",
      "Özelliklerin katsayıları: [[-0.0612242  -0.45953569  0.22174384  0.10469547  0.27602595 -1.05742362\n",
      "  -1.38300333]]\n",
      "Training accuracy: 0.8350057575259089\n",
      "\n",
      "lambda: 0.1\n",
      "Özelliklerin katsayıları: [[-0.0612405  -0.46127158  0.22239069  0.10482371  0.27607317 -1.06106656\n",
      "  -1.40217964]]\n",
      "Training accuracy: 0.8350057575259089\n",
      "\n",
      "lambda: 0.11\n",
      "Özelliklerin katsayıları: [[-0.06124261 -0.46278652  0.2229208   0.10491545  0.27607786 -1.06405607\n",
      "  -1.41860025]]\n",
      "Training accuracy: 0.8354992597466688\n",
      "\n",
      "lambda: 0.12\n",
      "Özelliklerin katsayıları: [[-0.06124167 -0.46405932  0.22336963  0.10499045  0.2760849  -1.06659207\n",
      "  -1.43276543]]\n",
      "Training accuracy: 0.8354992597466688\n",
      "\n",
      "lambda: 0.13\n",
      "Özelliklerin katsayıları: [[-0.06123798 -0.46512161  0.22376264  0.10507381  0.27607745 -1.06877156\n",
      "  -1.44518434]]\n",
      "Training accuracy: 0.8353347590064155\n",
      "\n",
      "lambda: 0.14\n",
      "Özelliklerin katsayıları: [[-0.06123716 -0.46604622  0.22410403  0.10513979  0.27607427 -1.07066595\n",
      "  -1.45613222]]\n",
      "Training accuracy: 0.8353347590064155\n",
      "\n",
      "lambda: 0.15\n",
      "Özelliklerin katsayıları: [[-0.06123575 -0.46685444  0.22440474  0.10519909  0.27606809 -1.07232525\n",
      "  -1.46586745]]\n",
      "Training accuracy: 0.8353347590064155\n",
      "\n",
      "lambda: 0.16\n",
      "Özelliklerin katsayıları: [[-0.06123091 -0.46756825  0.22466924  0.10525191  0.27605591 -1.07379476\n",
      "  -1.47460355]]\n",
      "Training accuracy: 0.8356637604869221\n",
      "\n",
      "lambda: 0.17\n",
      "Özelliklerin katsayıları: [[-0.06122861 -0.46820474  0.22490604  0.10529767  0.2760467  -1.07509786\n",
      "  -1.48245278]]\n",
      "Training accuracy: 0.8356637604869221\n",
      "\n",
      "lambda: 0.18\n",
      "Özelliklerin katsayıları: [[-0.0612263  -0.46877434  0.22511872  0.10533889  0.27603693 -1.0762647\n",
      "  -1.48955857]]\n",
      "Training accuracy: 0.8358282612271756\n",
      "\n",
      "lambda: 0.19\n",
      "Özelliklerin katsayıları: [[-0.06122399 -0.4692871   0.2253108   0.10537623  0.27602689 -1.07731565\n",
      "  -1.49602243]]\n",
      "Training accuracy: 0.8359927619674289\n",
      "\n",
      "lambda: 0.2\n",
      "Özelliklerin katsayıları: [[-0.06122172 -0.46975116  0.22548515  0.10541021  0.27601678 -1.07826723\n",
      "  -1.50192809]]\n",
      "Training accuracy: 0.8358282612271756\n",
      "\n",
      "lambda: 0.21\n",
      "Özelliklerin katsayıları: [[-0.06121949 -0.47017315  0.22564412  0.10544127  0.27600672 -1.07913292\n",
      "  -1.50734525]]\n",
      "Training accuracy: 0.8358282612271756\n",
      "\n",
      "lambda: 0.22\n",
      "Özelliklerin katsayıları: [[-0.06121732 -0.47055856  0.22578967  0.10546979  0.27599681 -1.07992389\n",
      "  -1.51233242]]\n",
      "Training accuracy: 0.8354992597466688\n",
      "\n",
      "lambda: 0.23\n",
      "Özelliklerin katsayıları: [[-0.06121522 -0.47091195  0.22592344  0.10549605  0.27598711 -1.08064944\n",
      "  -1.51693908]]\n",
      "Training accuracy: 0.8353347590064155\n",
      "\n",
      "lambda: 0.24\n",
      "Özelliklerin katsayıları: [[-0.06121318 -0.47123717  0.22604679  0.10552032  0.27597766 -1.08131737\n",
      "  -1.52120736]]\n",
      "Training accuracy: 0.8351702582661622\n",
      "\n",
      "lambda: 0.25\n",
      "Özelliklerin katsayıları: [[-0.06121121 -0.47153747  0.22616092  0.10554283  0.27596848 -1.08193432\n",
      "  -1.5251734 ]]\n",
      "Training accuracy: 0.8351702582661622\n",
      "\n",
      "lambda: 0.26\n",
      "Özelliklerin katsayıları: [[-0.0612093  -0.47181559  0.22626681  0.10556374  0.27595959 -1.08250591\n",
      "  -1.5288683 ]]\n",
      "Training accuracy: 0.8351702582661622\n",
      "\n",
      "lambda: 0.27\n",
      "Özelliklerin katsayıları: [[-0.06120747 -0.47207393  0.22636534  0.10558324  0.275951   -1.08303698\n",
      "  -1.53231906]]\n",
      "Training accuracy: 0.8353347590064155\n",
      "\n",
      "lambda: 0.28\n",
      "Özelliklerin katsayıları: [[-0.06120571 -0.47231452  0.22645724  0.10560146  0.2759427  -1.0835317\n",
      "  -1.53554918]]\n",
      "Training accuracy: 0.8354992597466688\n",
      "\n",
      "lambda: 0.29\n",
      "Özelliklerin katsayıları: [[-0.06120401 -0.47253913  0.22654316  0.10561852  0.2759347  -1.08399369\n",
      "  -1.53857924]]\n",
      "Training accuracy: 0.8354992597466688\n",
      "\n",
      "lambda: 0.3\n",
      "Özelliklerin katsayıları: [[-0.06120238 -0.4727493   0.22662368  0.10563454  0.27592698 -1.08442609\n",
      "  -1.54142731]]\n",
      "Training accuracy: 0.8356637604869221\n",
      "\n",
      "lambda: 0.31\n",
      "Özelliklerin katsayıları: [[-0.0612008  -0.4729464   0.22669928  0.10564959  0.27591955 -1.08483166\n",
      "  -1.54410937]]\n",
      "Training accuracy: 0.8356637604869221\n",
      "\n",
      "lambda: 0.32\n",
      "Özelliklerin katsayıları: [[-0.06119929 -0.47313159  0.2267704   0.10566378  0.27591238 -1.08521284\n",
      "  -1.54663955]]\n",
      "Training accuracy: 0.8356637604869221\n",
      "\n",
      "lambda: 0.33\n",
      "Özelliklerin katsayıları: [[-0.06119783 -0.47330593  0.22683744  0.10567716  0.27590548 -1.08557175\n",
      "  -1.54903043]]\n",
      "Training accuracy: 0.8356637604869221\n",
      "\n",
      "lambda: 0.34\n",
      "Özelliklerin katsayıları: [[-0.06119643 -0.47347036  0.22690073  0.10568982  0.27589883 -1.0859103\n",
      "  -1.55129324]]\n",
      "Training accuracy: 0.8356637604869221\n",
      "\n",
      "lambda: 0.35000000000000003\n",
      "Özelliklerin katsayıları: [[-0.06119508 -0.47362568  0.22696057  0.10570179  0.27589243 -1.08623017\n",
      "  -1.55343801]]\n",
      "Training accuracy: 0.8356637604869221\n",
      "\n",
      "lambda: 0.36\n",
      "Özelliklerin katsayıları: [[-0.06119379 -0.47377264  0.22701726  0.10571315  0.27588625 -1.08653287\n",
      "  -1.55547378]]\n",
      "Training accuracy: 0.8356637604869221\n",
      "\n",
      "lambda: 0.37\n",
      "Özelliklerin katsayıları: [[-0.06119253 -0.4739119   0.22707102  0.10572393  0.2758803  -1.08681975\n",
      "  -1.55740866]]\n",
      "Training accuracy: 0.8354992597466688\n",
      "\n",
      "lambda: 0.38\n",
      "Özelliklerin katsayıları: [[-0.06119133 -0.47404405  0.22712208  0.10573418  0.27587456 -1.08709202\n",
      "  -1.55924999]]\n",
      "Training accuracy: 0.8354992597466688\n",
      "\n",
      "lambda: 0.39\n",
      "Özelliklerin katsayıları: [[-0.06119016 -0.47416962  0.22717063  0.10574394  0.27586902 -1.08735077\n",
      "  -1.5610044 ]]\n",
      "Training accuracy: 0.8354992597466688\n",
      "\n",
      "lambda: 0.4\n",
      "Özelliklerin katsayıları: [[-0.06118904 -0.47428909  0.22721687  0.10575324  0.27586367 -1.08759698\n",
      "  -1.56267792]]\n",
      "Training accuracy: 0.8356637604869221\n",
      "\n",
      "lambda: 0.41000000000000003\n",
      "Özelliklerin katsayıları: [[-0.06118796 -0.47440289  0.22726094  0.10576211  0.27585851 -1.08783154\n",
      "  -1.56427602]]\n",
      "Training accuracy: 0.8358282612271756\n",
      "\n",
      "lambda: 0.42\n",
      "Özelliklerin katsayıları: [[-0.06118692 -0.47451142  0.227303    0.10577059  0.27585353 -1.08805526\n",
      "  -1.5658037 ]]\n",
      "Training accuracy: 0.8358282612271756\n",
      "\n",
      "lambda: 0.43\n",
      "Özelliklerin katsayıları: [[-0.06118591 -0.47461503  0.22734319  0.10577869  0.27584872 -1.08826888\n",
      "  -1.56726552]]\n",
      "Training accuracy: 0.8358282612271756\n",
      "\n",
      "lambda: 0.44\n",
      "Özelliklerin katsayıları: [[-0.06118493 -0.47471406  0.22738162  0.10578644  0.27584406 -1.08847306\n",
      "  -1.56866566]]\n",
      "Training accuracy: 0.8358282612271756\n",
      "\n",
      "lambda: 0.45\n",
      "Özelliklerin katsayıları: [[-0.06118399 -0.47480881  0.22741842  0.10579387  0.27583956 -1.08866843\n",
      "  -1.57000794]]\n",
      "Training accuracy: 0.8358282612271756\n",
      "\n",
      "lambda: 0.46\n",
      "Özelliklerin katsayıları: [[-0.06118308 -0.47489953  0.22745367  0.10580099  0.27583521 -1.08885553\n",
      "  -1.57129588]]\n",
      "Training accuracy: 0.8358282612271756\n",
      "\n",
      "lambda: 0.47000000000000003\n",
      "Özelliklerin katsayıları: [[-0.06118219 -0.47498649  0.22748748  0.10580783  0.275831   -1.08903488\n",
      "  -1.57253273]]\n",
      "Training accuracy: 0.8358282612271756\n",
      "\n",
      "lambda: 0.48\n",
      "Özelliklerin katsayıları: [[-0.06118134 -0.47506992  0.22751993  0.10581439  0.27582692 -1.08920695\n",
      "  -1.57372147]]\n",
      "Training accuracy: 0.8358282612271756\n",
      "\n",
      "lambda: 0.49\n",
      "Özelliklerin katsayıları: [[-0.06118051 -0.47515002  0.22755111  0.1058207   0.27582297 -1.08937219\n",
      "  -1.57486485]]\n",
      "Training accuracy: 0.8358282612271756\n",
      "\n",
      "lambda: 0.5\n",
      "Özelliklerin katsayıları: [[-0.06117971 -0.475227    0.22758108  0.10582677  0.27581914 -1.08953098\n",
      "  -1.57596543]]\n",
      "Training accuracy: 0.8358282612271756\n",
      "\n",
      "lambda: 0.51\n",
      "Özelliklerin katsayıları: [[-0.06117894 -0.47530102  0.22760992  0.10583261  0.27581543 -1.0896837\n",
      "  -1.57702556]]\n",
      "Training accuracy: 0.8358282612271756\n",
      "\n"
     ]
    },
    {
     "name": "stdout",
     "output_type": "stream",
     "text": [
      "lambda: 0.52\n",
      "Özelliklerin katsayıları: [[-0.06117818 -0.47537226  0.22763769  0.10583824  0.27581183 -1.08983069\n",
      "  -1.57804745]]\n",
      "Training accuracy: 0.8358282612271756\n",
      "\n",
      "lambda: 0.53\n",
      "Özelliklerin katsayıları: [[-0.06117745 -0.47544087  0.22766445  0.10584367  0.27580834 -1.08997227\n",
      "  -1.57903312]]\n",
      "Training accuracy: 0.8358282612271756\n",
      "\n",
      "lambda: 0.54\n",
      "Özelliklerin katsayıları: [[-0.06117675 -0.475507    0.22769025  0.1058489   0.27580495 -1.09010872\n",
      "  -1.57998446]]\n",
      "Training accuracy: 0.8358282612271756\n",
      "\n",
      "lambda: 0.55\n",
      "Özelliklerin katsayıları: [[-0.06117606 -0.47557078  0.22771514  0.10585395  0.27580166 -1.09024034\n",
      "  -1.58090325]]\n",
      "Training accuracy: 0.8358282612271756\n",
      "\n",
      "lambda: 0.56\n",
      "Özelliklerin katsayıları: [[-0.06117539 -0.47563232  0.22773917  0.10585883  0.27579847 -1.09036735\n",
      "  -1.58179113]]\n",
      "Training accuracy: 0.8358282612271756\n",
      "\n",
      "lambda: 0.5700000000000001\n",
      "Özelliklerin katsayıları: [[-0.06117474 -0.47569175  0.22776239  0.10586355  0.27579536 -1.09049002\n",
      "  -1.58264963]]\n",
      "Training accuracy: 0.8358282612271756\n",
      "\n",
      "lambda: 0.58\n",
      "Özelliklerin katsayıları: [[-0.06117411 -0.47574918  0.22778482  0.10586811  0.27579235 -1.09060854\n",
      "  -1.58348019]]\n",
      "Training accuracy: 0.8358282612271756\n",
      "\n",
      "lambda: 0.59\n",
      "Özelliklerin katsayıları: [[-0.0611735  -0.47580469  0.22780653  0.10587252  0.27578941 -1.09072314\n",
      "  -1.58428416]]\n",
      "Training accuracy: 0.8358282612271756\n",
      "\n",
      "lambda: 0.6\n",
      "Özelliklerin katsayıları: [[-0.0611729  -0.4758584   0.22782753  0.10587679  0.27578656 -1.090834\n",
      "  -1.58506278]]\n",
      "Training accuracy: 0.8358282612271756\n",
      "\n",
      "lambda: 0.61\n",
      "Özelliklerin katsayıları: [[-0.06117232 -0.47591037  0.22784786  0.10588093  0.27578378 -1.0909413\n",
      "  -1.58581724]]\n",
      "Training accuracy: 0.8358282612271756\n",
      "\n",
      "lambda: 0.62\n",
      "Özelliklerin katsayıları: [[-0.06117176 -0.47596071  0.22786755  0.10588494  0.27578108 -1.09104522\n",
      "  -1.58654866]]\n",
      "Training accuracy: 0.8358282612271756\n",
      "\n",
      "lambda: 0.63\n",
      "Özelliklerin katsayıları: [[-0.06117121 -0.47600947  0.22788664  0.10588882  0.27577845 -1.0911459\n",
      "  -1.58725806]]\n",
      "Training accuracy: 0.8358282612271756\n",
      "\n",
      "lambda: 0.64\n",
      "Özelliklerin katsayıları: [[-0.06117068 -0.47605674  0.22790515  0.10589259  0.27577589 -1.0912435\n",
      "  -1.58794644]]\n",
      "Training accuracy: 0.8358282612271756\n",
      "\n",
      "lambda: 0.65\n",
      "Özelliklerin katsayıları: [[-0.06117016 -0.47610259  0.22792311  0.10589625  0.27577339 -1.09133816\n",
      "  -1.58861471]]\n",
      "Training accuracy: 0.8358282612271756\n",
      "\n",
      "lambda: 0.66\n",
      "Özelliklerin katsayıları: [[-0.06116965 -0.47614706  0.22794053  0.1058998   0.27577096 -1.09143\n",
      "  -1.58926374]]\n",
      "Training accuracy: 0.8358282612271756\n",
      "\n",
      "lambda: 0.67\n",
      "Özelliklerin katsayıları: [[-0.06116915 -0.47619024  0.22795745  0.10590325  0.27576859 -1.09151916\n",
      "  -1.58989435]]\n",
      "Training accuracy: 0.8358282612271756\n",
      "\n",
      "lambda: 0.68\n",
      "Özelliklerin katsayıları: [[-0.06116867 -0.47623217  0.22797389  0.1059066   0.27576628 -1.09160575\n",
      "  -1.59050731]]\n",
      "Training accuracy: 0.8358282612271756\n",
      "\n",
      "lambda: 0.6900000000000001\n",
      "Özelliklerin katsayıları: [[-0.0611682  -0.4762729   0.22798986  0.10590986  0.27576402 -1.09168987\n",
      "  -1.59110336]]\n",
      "Training accuracy: 0.8358282612271756\n",
      "\n",
      "lambda: 0.7000000000000001\n",
      "Özelliklerin katsayıları: [[-0.06116774 -0.47631249  0.22800539  0.10591303  0.27576182 -1.09177164\n",
      "  -1.59168319]]\n",
      "Training accuracy: 0.8358282612271756\n",
      "\n",
      "lambda: 0.71\n",
      "Özelliklerin katsayıları: [[-0.06116729 -0.47635099  0.22802049  0.10591611  0.27575967 -1.09185114\n",
      "  -1.59224745]]\n",
      "Training accuracy: 0.8358282612271756\n",
      "\n",
      "lambda: 0.72\n",
      "Özelliklerin katsayıları: [[-0.06116686 -0.47638843  0.22803519  0.10591911  0.27575758 -1.09192848\n",
      "  -1.59279676]]\n",
      "Training accuracy: 0.8358282612271756\n",
      "\n",
      "lambda: 0.73\n",
      "Özelliklerin katsayıları: [[-0.06116643 -0.47642487  0.22804949  0.10592203  0.27575553 -1.09200373\n",
      "  -1.5933317 ]]\n",
      "Training accuracy: 0.8358282612271756\n",
      "\n",
      "lambda: 0.74\n",
      "Özelliklerin katsayıları: [[-0.06116601 -0.47646033  0.22806341  0.10592487  0.27575353 -1.09207699\n",
      "  -1.59385284]]\n",
      "Training accuracy: 0.8358282612271756\n",
      "\n",
      "lambda: 0.75\n",
      "Özelliklerin katsayıları: [[-0.06116561 -0.47649487  0.22807697  0.10592764  0.27575158 -1.09214833\n",
      "  -1.5943607 ]]\n",
      "Training accuracy: 0.8358282612271756\n",
      "\n",
      "lambda: 0.76\n",
      "Özelliklerin katsayıları: [[-0.06116521 -0.47652851  0.22809019  0.10593034  0.27574967 -1.09221783\n",
      "  -1.59485578]]\n",
      "Training accuracy: 0.8358282612271756\n",
      "\n",
      "lambda: 0.77\n",
      "Özelliklerin katsayıları: [[-0.06116482 -0.47656129  0.22810307  0.10593297  0.2757478  -1.09228555\n",
      "  -1.59533856]]\n",
      "Training accuracy: 0.8358282612271756\n",
      "\n",
      "lambda: 0.78\n",
      "Özelliklerin katsayıları: [[-0.06116444 -0.47659324  0.22811562  0.10593554  0.27574598 -1.09235156\n",
      "  -1.5958095 ]]\n",
      "Training accuracy: 0.8358282612271756\n",
      "\n",
      "lambda: 0.79\n",
      "Özelliklerin katsayıları: [[-0.06116407 -0.4766244   0.22812787  0.10593804  0.27574419 -1.09241593\n",
      "  -1.59626901]]\n",
      "Training accuracy: 0.8358282612271756\n",
      "\n",
      "lambda: 0.8\n",
      "Özelliklerin katsayıları: [[-0.0611637  -0.47665479  0.22813982  0.10594049  0.27574244 -1.09247872\n",
      "  -1.59671752]]\n",
      "Training accuracy: 0.8358282612271756\n",
      "\n",
      "lambda: 0.81\n",
      "Özelliklerin katsayıları: [[-0.06116335 -0.47668445  0.22815148  0.10594287  0.27574074 -1.09253998\n",
      "  -1.59715542]]\n",
      "Training accuracy: 0.8358282612271756\n",
      "\n",
      "lambda: 0.8200000000000001\n",
      "Özelliklerin katsayıları: [[-0.061163   -0.47671338  0.22816286  0.1059452   0.27573907 -1.09259978\n",
      "  -1.59758307]]\n",
      "Training accuracy: 0.8358282612271756\n",
      "\n",
      "lambda: 0.8300000000000001\n",
      "Özelliklerin katsayıları: [[-0.06116266 -0.47674164  0.22817397  0.10594747  0.27573743 -1.09265815\n",
      "  -1.59800083]]\n",
      "Training accuracy: 0.8358282612271756\n",
      "\n",
      "lambda: 0.84\n",
      "Özelliklerin katsayıları: [[-0.06116232 -0.47676923  0.22818483  0.1059497   0.27573583 -1.09271516\n",
      "  -1.59840905]]\n",
      "Training accuracy: 0.8358282612271756\n",
      "\n",
      "lambda: 0.85\n",
      "Özelliklerin katsayıları: [[-0.061162   -0.47679618  0.22819543  0.10595187  0.27573426 -1.09277085\n",
      "  -1.59880804]]\n",
      "Training accuracy: 0.8358282612271756\n",
      "\n",
      "lambda: 0.86\n",
      "Özelliklerin katsayıları: [[-0.06116168 -0.47682251  0.22820579  0.10595399  0.27573272 -1.09282526\n",
      "  -1.59919812]]\n",
      "Training accuracy: 0.8358282612271756\n",
      "\n",
      "lambda: 0.87\n",
      "Özelliklerin katsayıları: [[-0.06116136 -0.47684825  0.22821592  0.10595606  0.27573122 -1.09287844\n",
      "  -1.59957957]]\n",
      "Training accuracy: 0.8358282612271756\n",
      "\n",
      "lambda: 0.88\n",
      "Özelliklerin katsayıları: [[-0.06116106 -0.4768734   0.22822583  0.10595809  0.27572974 -1.09293043\n",
      "  -1.59995269]]\n",
      "Training accuracy: 0.8358282612271756\n",
      "\n",
      "lambda: 0.89\n",
      "Özelliklerin katsayıları: [[-0.06116076 -0.47689801  0.22823552  0.10596007  0.2757283  -1.09298127\n",
      "  -1.60031775]]\n",
      "Training accuracy: 0.8358282612271756\n",
      "\n",
      "lambda: 0.9\n",
      "Özelliklerin katsayıları: [[-0.06116046 -0.47692207  0.22824499  0.10596202  0.27572688 -1.093031\n",
      "  -1.60067499]]\n",
      "Training accuracy: 0.8358282612271756\n",
      "\n",
      "lambda: 0.91\n",
      "Özelliklerin katsayıları: [[-0.06116017 -0.47694561  0.22825426  0.10596392  0.27572549 -1.09307965\n",
      "  -1.60102468]]\n",
      "Training accuracy: 0.8358282612271756\n",
      "\n",
      "lambda: 0.92\n",
      "Özelliklerin katsayıları: [[-0.06115989 -0.47696864  0.22826334  0.10596577  0.27572413 -1.09312726\n",
      "  -1.60136705]]\n",
      "Training accuracy: 0.8358282612271756\n",
      "\n",
      "lambda: 0.93\n",
      "Özelliklerin katsayıları: [[-0.06115961 -0.47699119  0.22827222  0.1059676   0.27572279 -1.09317386\n",
      "  -1.60170232]]\n",
      "Training accuracy: 0.8358282612271756\n",
      "\n",
      "lambda: 0.9400000000000001\n",
      "Özelliklerin katsayıları: [[-0.06115934 -0.47701326  0.22828092  0.10596938  0.27572148 -1.09321948\n",
      "  -1.60203071]]\n",
      "Training accuracy: 0.8358282612271756\n",
      "\n",
      "lambda: 0.9500000000000001\n",
      "Özelliklerin katsayıları: [[-0.06115907 -0.47703488  0.22828944  0.10597113  0.2757202  -1.09326416\n",
      "  -1.60235244]]\n",
      "Training accuracy: 0.8358282612271756\n",
      "\n",
      "lambda: 0.96\n",
      "Özelliklerin katsayıları: [[-0.06115881 -0.47705605  0.22829779  0.10597284  0.27571893 -1.09330792\n",
      "  -1.6026677 ]]\n",
      "Training accuracy: 0.8358282612271756\n",
      "\n",
      "lambda: 0.97\n",
      "Özelliklerin katsayıları: [[-0.06115855 -0.47707679  0.22830596  0.10597451  0.2757177  -1.09335078\n",
      "  -1.60297669]]\n",
      "Training accuracy: 0.8358282612271756\n",
      "\n",
      "lambda: 0.98\n",
      "Özelliklerin katsayıları: [[-0.0611583  -0.47709711  0.22831397  0.10597616  0.27571648 -1.09339279\n",
      "  -1.6032796 ]]\n",
      "Training accuracy: 0.8358282612271756\n",
      "\n",
      "lambda: 0.99\n",
      "Özelliklerin katsayıları: [[-0.06119851 -0.47701969  0.22832912  0.10589566  0.27569875 -1.09350626\n",
      "  -1.60355473]]\n",
      "Training accuracy: 0.8359927619674289\n",
      "\n"
     ]
    }
   ],
   "source": [
    "lambda_range = np.arange(0,1,0.01)\n",
    "for lmb in lambda_range:\n",
    "    LR = LogisticRegression(penalty = 'l2', C = lmb, multi_class=\"multinomial\",random_state=42)\n",
    "    LR.fit(x_train, y_train)\n",
    "    print('lambda:', lmb)\n",
    "    print('Özelliklerin katsayıları:', LR.coef_)\n",
    "    print('Training accuracy:', LR.score(x_train, y_train))\n",
    "    print('')"
   ]
  },
  {
   "cell_type": "code",
   "execution_count": 184,
   "metadata": {},
   "outputs": [
    {
     "name": "stdout",
     "output_type": "stream",
     "text": [
      "Özelliklerin katsayıları: [[-0.06119825 -0.47703902  0.22833691  0.10589732  0.2756974  -1.09354671\n",
      "  -1.60384598]]\n",
      "Training accuracy: 0.8359927619674289\n",
      "\n"
     ]
    }
   ],
   "source": [
    "# Yukarıdaki değerleri test edip en iyi sonucun 1 noktasında aldığımızı öğrenmiş olduk. Bu sebeple C değerimizi 1 olarak aldık\n",
    "LR = LogisticRegression(penalty = 'l2', C = 1,multi_class=\"multinomial\",random_state=42)\n",
    "LR.fit(x_train, y_train)\n",
    "\n",
    "print('Özelliklerin katsayıları:', LR.coef_)\n",
    "print('Training accuracy:', LR.score(x_train, y_train))\n",
    "print('')"
   ]
  },
  {
   "cell_type": "code",
   "execution_count": 185,
   "metadata": {},
   "outputs": [
    {
     "name": "stdout",
     "output_type": "stream",
     "text": [
      "Test accuracy: 0.8417763157894737\n"
     ]
    }
   ],
   "source": [
    "LR = LogisticRegression(penalty = 'l2', C = 1, multi_class=\"multinomial\")\n",
    "LR.fit(x_train, y_train)\n",
    "print('Test accuracy:', LR.score(x_test, y_test))"
   ]
  },
  {
   "cell_type": "code",
   "execution_count": 186,
   "metadata": {},
   "outputs": [
    {
     "data": {
      "text/plain": [
       "array([1, 0, 0, ..., 0, 1, 0])"
      ]
     },
     "execution_count": 186,
     "metadata": {},
     "output_type": "execute_result"
    }
   ],
   "source": [
    "y_pred = LR.predict(x_test)\n",
    "y_pred"
   ]
  },
  {
   "cell_type": "code",
   "execution_count": 187,
   "metadata": {},
   "outputs": [
    {
     "data": {
      "text/plain": [
       "array([[1496,  286],\n",
       "       [ 195, 1063]], dtype=int64)"
      ]
     },
     "execution_count": 187,
     "metadata": {},
     "output_type": "execute_result"
    }
   ],
   "source": [
    "from sklearn.metrics import confusion_matrix, classification_report\n",
    "confusion_matrix(y_test,y_pred)"
   ]
  },
  {
   "cell_type": "code",
   "execution_count": 188,
   "metadata": {},
   "outputs": [
    {
     "data": {
      "text/plain": [
       "<sklearn.metrics._plot.confusion_matrix.ConfusionMatrixDisplay at 0x24562a49880>"
      ]
     },
     "execution_count": 188,
     "metadata": {},
     "output_type": "execute_result"
    },
    {
     "data": {
      "image/png": "[encoded data removed]",
      "text/plain": [
       "<Figure size 432x288 with 2 Axes>"
      ]
     },
     "metadata": {
      "needs_background": "light"
     },
     "output_type": "display_data"
    }
   ],
   "source": [
    "plot_confusion_matrix(LR,x_test,y_test, display_labels=[\"Abone Olmadı\",\"Abone Oldu\"])"
   ]
  },
  {
   "cell_type": "code",
   "execution_count": 189,
   "metadata": {},
   "outputs": [
    {
     "name": "stdout",
     "output_type": "stream",
     "text": [
      "              precision    recall  f1-score   support\n",
      "\n",
      "           0       0.88      0.84      0.86      1782\n",
      "           1       0.79      0.84      0.82      1258\n",
      "\n",
      "    accuracy                           0.84      3040\n",
      "   macro avg       0.84      0.84      0.84      3040\n",
      "weighted avg       0.84      0.84      0.84      3040\n",
      "\n"
     ]
    }
   ],
   "source": [
    "print(classification_report(y_test,y_pred))"
   ]
  },
  {
   "cell_type": "markdown",
   "metadata": {},
   "source": [
    "# Yapay Sinir Ağları ile Test edilmesi"
   ]
  },
  {
   "cell_type": "code",
   "execution_count": 190,
   "metadata": {},
   "outputs": [
    {
     "data": {
      "text/plain": [
       "MLPClassifier(max_iter=10000, random_state=42)"
      ]
     },
     "execution_count": 190,
     "metadata": {},
     "output_type": "execute_result"
    }
   ],
   "source": [
    "mlp = MLPClassifier(hidden_layer_sizes=(100,),max_iter=10000,random_state=42)\n",
    "mlp.fit(x_train,y_train)"
   ]
  },
  {
   "cell_type": "code",
   "execution_count": 191,
   "metadata": {},
   "outputs": [
    {
     "data": {
      "text/plain": [
       "0.8483552631578948"
      ]
     },
     "execution_count": 191,
     "metadata": {},
     "output_type": "execute_result"
    }
   ],
   "source": [
    "mlp.score(x_test,y_test)"
   ]
  },
  {
   "cell_type": "code",
   "execution_count": 192,
   "metadata": {},
   "outputs": [
    {
     "data": {
      "text/plain": [
       "array([1, 0, 0, ..., 0, 1, 0])"
      ]
     },
     "execution_count": 192,
     "metadata": {},
     "output_type": "execute_result"
    }
   ],
   "source": [
    "pred = mlp.predict(x_test)\n",
    "pred"
   ]
  },
  {
   "cell_type": "code",
   "execution_count": 193,
   "metadata": {},
   "outputs": [
    {
     "data": {
      "text/plain": [
       "array([[1538,  244],\n",
       "       [ 217, 1041]], dtype=int64)"
      ]
     },
     "execution_count": 193,
     "metadata": {},
     "output_type": "execute_result"
    }
   ],
   "source": [
    "confusion_matrix(y_test,pred)"
   ]
  },
  {
   "cell_type": "code",
   "execution_count": 194,
   "metadata": {},
   "outputs": [
    {
     "data": {
      "text/plain": [
       "<sklearn.metrics._plot.confusion_matrix.ConfusionMatrixDisplay at 0x245648abfd0>"
      ]
     },
     "execution_count": 194,
     "metadata": {},
     "output_type": "execute_result"
    },
    {
     "data": {
      "image/png": "[encoded data removed]",
      "text/plain": [
       "<Figure size 432x288 with 2 Axes>"
      ]
     },
     "metadata": {
      "needs_background": "light"
     },
     "output_type": "display_data"
    }
   ],
   "source": [
    "plot_confusion_matrix(mlp,x_test,y_test, display_labels=[\"Abone Olmadı\",\"Abone Oldu\"])"
   ]
  },
  {
   "cell_type": "code",
   "execution_count": 195,
   "metadata": {},
   "outputs": [
    {
     "name": "stdout",
     "output_type": "stream",
     "text": [
      "              precision    recall  f1-score   support\n",
      "\n",
      "           0       0.88      0.86      0.87      1782\n",
      "           1       0.81      0.83      0.82      1258\n",
      "\n",
      "    accuracy                           0.85      3040\n",
      "   macro avg       0.84      0.85      0.84      3040\n",
      "weighted avg       0.85      0.85      0.85      3040\n",
      "\n"
     ]
    }
   ],
   "source": [
    "print(classification_report(y_test,pred))"
   ]
  },
  {
   "cell_type": "code",
   "execution_count": null,
   "metadata": {},
   "outputs": [],
   "source": []
  },
  {
   "cell_type": "markdown",
   "metadata": {},
   "source": [
    "# Karar Ağaçları ile test edilmesi"
   ]
  },
  {
   "cell_type": "code",
   "execution_count": 120,
   "metadata": {},
   "outputs": [],
   "source": [
    "dt = DecisionTreeClassifier(criterion=\"entropy\", random_state=42)"
   ]
  },
  {
   "cell_type": "code",
   "execution_count": 121,
   "metadata": {},
   "outputs": [
    {
     "data": {
      "text/plain": [
       "DecisionTreeClassifier(criterion='entropy', random_state=42)"
      ]
     },
     "execution_count": 121,
     "metadata": {},
     "output_type": "execute_result"
    }
   ],
   "source": [
    "dt.fit(x_train,y_train)"
   ]
  },
  {
   "cell_type": "code",
   "execution_count": 122,
   "metadata": {},
   "outputs": [],
   "source": [
    "dt_pred =  dt.predict(x_test)"
   ]
  },
  {
   "cell_type": "code",
   "execution_count": 132,
   "metadata": {
    "scrolled": true
   },
   "outputs": [
    {
     "data": {
      "image/png": "[encoded data removed]",
      "text/plain": [
       "<Figure size 720x360 with 1 Axes>"
      ]
     },
     "metadata": {
      "needs_background": "light"
     },
     "output_type": "display_data"
    }
   ],
   "source": [
    "plt.figure(figsize=(10,5))\n",
    "plot_tree(dt,\n",
    "         filled=True,\n",
    "         rounded=True,\n",
    "          class_names=[\"Abone Oldu\",\"Abone Olmadı\"],\n",
    "          feature_names=x.columns);"
   ]
  },
  {
   "cell_type": "markdown",
   "metadata": {},
   "source": [
    "# Karar ağaçlarının doğruluk skoru düşük çıktığı için yukarıdaki grafik ile uğraşmak istemedik fakat buna benzer bir grafik elde ederiz. "
   ]
  },
  {
   "cell_type": "code",
   "execution_count": 140,
   "metadata": {},
   "outputs": [
    {
     "data": {
      "text/plain": [
       "<sklearn.metrics._plot.confusion_matrix.ConfusionMatrixDisplay at 0x2456442f520>"
      ]
     },
     "execution_count": 140,
     "metadata": {},
     "output_type": "execute_result"
    },
    {
     "data": {
      "image/png": "[encoded data removed]",
      "text/plain": [
       "<Figure size 432x288 with 2 Axes>"
      ]
     },
     "metadata": {
      "needs_background": "light"
     },
     "output_type": "display_data"
    }
   ],
   "source": [
    "dt_confu = plot_confusion_matrix(dt,x_test,y_test)\n",
    "dt_confu"
   ]
  },
  {
   "cell_type": "code",
   "execution_count": 124,
   "metadata": {},
   "outputs": [
    {
     "name": "stdout",
     "output_type": "stream",
     "text": [
      "              precision    recall  f1-score   support\n",
      "\n",
      "           0       0.84      0.81      0.82      1782\n",
      "           1       0.74      0.77      0.76      1258\n",
      "\n",
      "    accuracy                           0.79      3040\n",
      "   macro avg       0.79      0.79      0.79      3040\n",
      "weighted avg       0.80      0.79      0.79      3040\n",
      "\n"
     ]
    }
   ],
   "source": [
    "print(classification_report(y_test,dt_pred))"
   ]
  },
  {
   "cell_type": "markdown",
   "metadata": {},
   "source": [
    "# Sonuç Olarak;"
   ]
  },
  {
   "cell_type": "markdown",
   "metadata": {},
   "source": [
    "Veri setimizin dengesiz olmasından kaynaklanacak olan sıkıntıların önüne geçmek icin setimizi bir kaç algoritmaya sokarak dengeli hale getirdikten sonra veri önişleme işlemlerini gerçekleştirdik. Sonrasında ise veri test aşamasına geldiğimizde 3 farklı algoritma ile değerlendirdik ve bu algoritmalardan en iyisinin çok az bir farkla Yapay Sinir Ağları olduğunu keşfettik. Yani elimizdeki verilere bakarak bir kişinin teste tabi olan verileri alındıktan sonra %85 olasılıkla abone olacağını ya da olmayacağını tahmin edebiliriz."
   ]
  },
  {
   "cell_type": "markdown",
   "metadata": {},
   "source": [
    "# Hazırlayan\n",
    "## Mehmet Ali YILMAZ\n"
   ]
  },
  {
   "cell_type": "code",
   "execution_count": null,
   "metadata": {},
   "outputs": [],
   "source": []
  }
 ],
 "metadata": {
  "kernelspec": {
   "display_name": "Python 3.10.6 64-bit",
   "language": "python",
   "name": "python3"
  },
  "language_info": {
   "codemirror_mode": {
    "name": "ipython",
    "version": 3
   },
   "file_extension": ".py",
   "mimetype": "text/x-python",
   "name": "python",
   "nbconvert_exporter": "python",
   "pygments_lexer": "ipython3",
   "version": "3.10.6"
  },
  "vscode": {
   "interpreter": {
    "hash": "aa6830e20aee62a1f6a698241ddfcae276e6a391cd5d4a1dbf11c155af813abe"
   }
  }
 },
 "nbformat": 4,
 "nbformat_minor": 4
}
